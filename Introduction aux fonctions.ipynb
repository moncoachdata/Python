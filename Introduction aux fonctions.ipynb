{
 "cells": [
  {
   "cell_type": "markdown",
   "metadata": {},
   "source": [
    "# Introduction aux fonctions"
   ]
  },
  {
   "cell_type": "markdown",
   "metadata": {},
   "source": [
    "## Tokenization du vocabulaire"
   ]
  },
  {
   "cell_type": "code",
   "execution_count": 1,
   "metadata": {
    "collapsed": false
   },
   "outputs": [
    {
     "data": {
      "text/plain": [
       "'à afin autant automatique automatisées autres aux bien calcul ces comme complexes compression connaissance considérée danalyse dans de den densembles des dincertitude discipline disjointes domaines données elle emploie en est et extraire formes généralement généraux haute informations informatique intéressantes la lanalytique lapprentissage larges le les lextraction limitée linformation lingénierie masse mathématiques méthodes modèles modélisation moins ne notamment objectif ou particulièrement pas performance plus plusieurs possible potentiellement premier principalement probabilistes produire programmation prophétique que qui reconnaissance sadaptent science signal soit sont source sources statistique stockage techniques technologie termes théorie théories tirées traitement tri utiles visualisation wikipédia'"
      ]
     },
     "execution_count": 1,
     "metadata": {},
     "output_type": "execute_result"
    }
   ],
   "source": [
    "vocabulary = open(\"dictionnaire.txt\", \"r\", encoding=\"utf-8\").read()\n",
    "vocabulary"
   ]
  },
  {
   "cell_type": "code",
   "execution_count": 2,
   "metadata": {
    "collapsed": false
   },
   "outputs": [
    {
     "name": "stdout",
     "output_type": "stream",
     "text": [
      "['à', 'afin', 'autant', 'automatique', 'automatisées']\n"
     ]
    }
   ],
   "source": [
    "tokenized_vocabulary = vocabulary.split(\" \")\n",
    "print(tokenized_vocabulary[0:5])"
   ]
  },
  {
   "cell_type": "markdown",
   "metadata": {},
   "source": [
    "## Remplacement des caractères spéciaux"
   ]
  },
  {
   "cell_type": "code",
   "execution_count": 3,
   "metadata": {
    "collapsed": false
   },
   "outputs": [
    {
     "name": "stdout",
     "output_type": "stream",
     "text": [
      "En termes généraux, la scence des données est l'extraction de conaissance d'ensembles de données.   \n",
      " \n",
      "Elle emploie des techniques et des théories tirées de plusieurs autres domaines plus larges des mathématiques, la statistique principalement, la téorie de l'information et la technologie de l'information, notamment le traitement de signal, des modèles probabilistes, l'apprentissage automatique, l'apprentissage statistiqe, la programmation informatique, l'ingénierie de données, la reconnaissance de formes et l'apprentissage, la visualisation, l'analytique prophétique, la modélisation d'incertitude, le stokage de données, la compression de données et le calcul à haute performance. \n",
      " \n",
      "Les méthodes qui s'adaptent aux données de masse sont particulièrement intéressantes dans la science des données, bien que la dicipline ne soit généralement pas considérée come limitée à ces données.   \n",
      " \n",
      "Le premier objectif est de produire des méthodes automatisées, autant que possible de tri et d'analyse de données de masse et de sources plus ou moins complexes ou disjointes de données, afin d'en extraire des informations utiles ou potentiellement utiles. Source Wikipédia\n"
     ]
    }
   ],
   "source": [
    "f = open(\"texte.txt\", \"r\", encoding=\"utf-8\")\n",
    "text_string = f.read()\n",
    "\n",
    "print(text_string)"
   ]
  },
  {
   "cell_type": "code",
   "execution_count": 4,
   "metadata": {
    "collapsed": false
   },
   "outputs": [
    {
     "name": "stdout",
     "output_type": "stream",
     "text": [
      "Python est cool\n"
     ]
    }
   ],
   "source": [
    "# replace()\n",
    "\n",
    "text = \"Python,est,cool\"\n",
    "text = text.replace(\",\", \" \")\n",
    "print(text)"
   ]
  },
  {
   "cell_type": "markdown",
   "metadata": {},
   "source": [
    "### Training"
   ]
  },
  {
   "cell_type": "code",
   "execution_count": 5,
   "metadata": {
    "collapsed": false
   },
   "outputs": [
    {
     "name": "stdout",
     "output_type": "stream",
     "text": [
      "En termes généraux la scence des données est lextraction de conaissance densembles de données    Elle emploie des techniques et des théories tirées de plusieurs autres domaines plus larges des mathématiques la statistique principalement la téorie de linformation et la technologie de linformation notamment le traitement de signal des modèles probabilistes lapprentissage automatique lapprentissage statistiqe la programmation informatique lingénierie de données la reconnaissance de formes et lapprentissage la visualisation lanalytique prophétique la modélisation dincertitude le stokage de données la compression de données et le calcul à haute performance  Les méthodes qui sadaptent aux données de masse sont particulièrement intéressantes dans la science des données bien que la dicipline ne soit généralement pas considérée come limitée à ces données    Le premier objectif est de produire des méthodes automatisées autant que possible de tri et danalyse de données de masse et de sources plus ou moins complexes ou disjointes de données afin den extraire des informations utiles ou potentiellement utiles Source Wikipédia\n"
     ]
    }
   ],
   "source": [
    "text_string = text_string.replace(\".\", \"\")\n",
    "text_string = text_string.replace(\",\", \"\")\n",
    "text_string = text_string.replace(\"'\", \"\")\n",
    "text_string = text_string.replace(\"\\n\", \"\")\n",
    "\n",
    "print(text_string)"
   ]
  },
  {
   "cell_type": "markdown",
   "metadata": {},
   "source": [
    "## Fonctions"
   ]
  },
  {
   "cell_type": "code",
   "execution_count": 9,
   "metadata": {
    "collapsed": false
   },
   "outputs": [
    {
     "data": {
      "text/plain": [
       "'Python est incroyable'"
      ]
     },
     "execution_count": 9,
     "metadata": {},
     "output_type": "execute_result"
    }
   ],
   "source": [
    "def clean_text(string_value):\n",
    "    cleaned_value = string_value.replace(\",\", \" \")\n",
    "    return(cleaned_value)\n",
    "\n",
    "sentence = \"Python,est,incroyable\"\n",
    "sentence = clean_text(sentence)\n",
    "sentence"
   ]
  },
  {
   "cell_type": "markdown",
   "metadata": {},
   "source": [
    "### Training"
   ]
  },
  {
   "cell_type": "code",
   "execution_count": 10,
   "metadata": {
    "collapsed": false
   },
   "outputs": [
    {
     "data": {
      "text/plain": [
       "'En termes généraux la scence des données est lextraction de conaissance densembles de données    Elle emploie des techniques et des théories tirées de plusieurs autres domaines plus larges des mathématiques la statistique principalement la téorie de linformation et la technologie de linformation notamment le traitement de signal des modèles probabilistes lapprentissage automatique lapprentissage statistiqe la programmation informatique lingénierie de données la reconnaissance de formes et lapprentissage la visualisation lanalytique prophétique la modélisation dincertitude le stokage de données la compression de données et le calcul à haute performance  Les méthodes qui sadaptent aux données de masse sont particulièrement intéressantes dans la science des données bien que la dicipline ne soit généralement pas considérée come limitée à ces données    Le premier objectif est de produire des méthodes automatisées autant que possible de tri et danalyse de données de masse et de sources plus ou moins complexes ou disjointes de données afin den extraire des informations utiles ou potentiellement utiles Source Wikipédia'"
      ]
     },
     "execution_count": 10,
     "metadata": {},
     "output_type": "execute_result"
    }
   ],
   "source": [
    "def clean_text(string):\n",
    "    cleaned_string = string.replace(\".\", \"\")\n",
    "    cleaned_string = cleaned_string.replace(\",\", \"\")\n",
    "    cleaned_string = cleaned_string.replace(\"'\", \"\")\n",
    "    cleaned_string = cleaned_string.replace(\"\\n\", \"\")\n",
    "    return(cleaned_string)\n",
    "\n",
    "cleaned_text = clean_text(text_string)\n",
    "cleaned_text"
   ]
  },
  {
   "cell_type": "markdown",
   "metadata": {},
   "source": [
    "## Changer les majuscules en minuscules"
   ]
  },
  {
   "cell_type": "code",
   "execution_count": 11,
   "metadata": {
    "collapsed": false
   },
   "outputs": [
    {
     "name": "stdout",
     "output_type": "stream",
     "text": [
      "zinedine zidane france\n"
     ]
    }
   ],
   "source": [
    "# lower()\n",
    "\n",
    "words = \"Zinedine ZIDANE France\"\n",
    "lower_words = words.lower()\n",
    "print(lower_words)"
   ]
  },
  {
   "cell_type": "code",
   "execution_count": 12,
   "metadata": {
    "collapsed": false
   },
   "outputs": [
    {
     "data": {
      "text/plain": [
       "'en termes généraux la scence des données est lextraction de conaissance densembles de données    elle emploie des techniques et des théories tirées de plusieurs autres domaines plus larges des mathématiques la statistique principalement la téorie de linformation et la technologie de linformation notamment le traitement de signal des modèles probabilistes lapprentissage automatique lapprentissage statistiqe la programmation informatique lingénierie de données la reconnaissance de formes et lapprentissage la visualisation lanalytique prophétique la modélisation dincertitude le stokage de données la compression de données et le calcul à haute performance  les méthodes qui sadaptent aux données de masse sont particulièrement intéressantes dans la science des données bien que la dicipline ne soit généralement pas considérée come limitée à ces données    le premier objectif est de produire des méthodes automatisées autant que possible de tri et danalyse de données de masse et de sources plus ou moins complexes ou disjointes de données afin den extraire des informations utiles ou potentiellement utiles source wikipédia'"
      ]
     },
     "execution_count": 12,
     "metadata": {},
     "output_type": "execute_result"
    }
   ],
   "source": [
    "def clean_text(string):\n",
    "    cleaned_string = string.replace(\".\", \"\")\n",
    "    cleaned_string = cleaned_string.replace(\",\", \"\")\n",
    "    cleaned_string = cleaned_string.replace(\"'\", \"\")\n",
    "    cleaned_string = cleaned_string.replace(\"\\n\", \"\")\n",
    "    cleaned_string = cleaned_string.lower()\n",
    "    return(cleaned_string)\n",
    "\n",
    "cleaned_text = clean_text(text_string)\n",
    "cleaned_text"
   ]
  },
  {
   "cell_type": "markdown",
   "metadata": {},
   "source": [
    "## Arguments multiples"
   ]
  },
  {
   "cell_type": "code",
   "execution_count": 16,
   "metadata": {
    "collapsed": false
   },
   "outputs": [
    {
     "name": "stdout",
     "output_type": "stream",
     "text": [
      "GOAL\n"
     ]
    }
   ],
   "source": [
    "def clean_string(string, change_string):\n",
    "    replacement_string = \"\"\n",
    "    cleaned_string = string.replace(change_string, replacement_string)\n",
    "    return(cleaned_string)\n",
    "\n",
    "goal = clean_string(\"GOAL!!!!!!!\", \"!\")\n",
    "print(goal)"
   ]
  },
  {
   "cell_type": "code",
   "execution_count": 17,
   "metadata": {
    "collapsed": false
   },
   "outputs": [
    {
     "name": "stdout",
     "output_type": "stream",
     "text": [
      "GOOOOAAAAAALLLL!!!!!!!!!!\n"
     ]
    }
   ],
   "source": [
    "def modify_text(text_string, modify_string, replacement_string):\n",
    "    cleaned_string = text_string.replace(modify_string, replacement_string)\n",
    "    return(cleaned_string)\n",
    "\n",
    "goal = modify_text(\"GOOOOAAAAAALLLL..........\", \".\", \"!\")\n",
    "print(goal)"
   ]
  },
  {
   "cell_type": "markdown",
   "metadata": {},
   "source": [
    "### Training"
   ]
  },
  {
   "cell_type": "code",
   "execution_count": 19,
   "metadata": {
    "collapsed": false
   },
   "outputs": [
    {
     "name": "stdout",
     "output_type": "stream",
     "text": [
      "en termes généraux la scence des données est lextraction de conaissance densembles de données    elle emploie des techniques et des théories tirées de plusieurs autres domaines plus larges des mathématiques la statistique principalement la téorie de linformation et la technologie de linformation notamment le traitement de signal des modèles probabilistes lapprentissage automatique lapprentissage statistiqe la programmation informatique lingénierie de données la reconnaissance de formes et lapprentissage la visualisation lanalytique prophétique la modélisation dincertitude le stokage de données la compression de données et le calcul à haute performance  les méthodes qui sadaptent aux données de masse sont particulièrement intéressantes dans la science des données bien que la dicipline ne soit généralement pas considérée come limitée à ces données    le premier objectif est de produire des méthodes automatisées autant que possible de tri et danalyse de données de masse et de sources plus ou moins complexes ou disjointes de données afin den extraire des informations utiles ou potentiellement utiles source wikipédia\n"
     ]
    }
   ],
   "source": [
    "def clean_text(text_string, special_characters, replacement_string):\n",
    "    cleaned_string = text_string\n",
    "    \n",
    "    for string in special_characters:\n",
    "        cleaned_string = cleaned_string.replace(string, replacement_string)\n",
    "    cleaned_string = cleaned_string.lower()\n",
    "    return(cleaned_string)\n",
    "\n",
    "\n",
    "clean_characters =  [\".\", \",\", \"'\", \"\\n\"]\n",
    "replacement = \"\"\n",
    "cleaned_text = clean_text(text_string, clean_characters, replacement)\n",
    "print(cleaned_text)"
   ]
  },
  {
   "cell_type": "markdown",
   "metadata": {},
   "source": [
    "## Tokenization du fichier texte"
   ]
  },
  {
   "cell_type": "markdown",
   "metadata": {},
   "source": [
    "### Training"
   ]
  },
  {
   "cell_type": "code",
   "execution_count": 20,
   "metadata": {
    "collapsed": false
   },
   "outputs": [
    {
     "name": "stdout",
     "output_type": "stream",
     "text": [
      "['en', 'termes', 'généraux', 'la', 'scence', 'des', 'données', 'est', 'lextraction', 'de']\n"
     ]
    }
   ],
   "source": [
    "def tokenize(string, special_characters, replacement_string):\n",
    "    cleaned_text = clean_text(string, special_characters, replacement_string)\n",
    "    text_tokens = cleaned_text.split(\" \")\n",
    "    return(text_tokens)\n",
    "\n",
    "clean_characters =  [\".\", \",\", \"'\", \"\\n\"]\n",
    "replacement = \"\"\n",
    "tokenized_text = tokenize(text_string, clean_characters, replacement)\n",
    "print(tokenized_text[0:10])"
   ]
  },
  {
   "cell_type": "markdown",
   "metadata": {},
   "source": [
    "## Trouver les mots mal orthographiés"
   ]
  },
  {
   "cell_type": "markdown",
   "metadata": {},
   "source": [
    "### Training"
   ]
  },
  {
   "cell_type": "code",
   "execution_count": 24,
   "metadata": {
    "collapsed": false
   },
   "outputs": [
    {
     "name": "stdout",
     "output_type": "stream",
     "text": [
      "['scence', 'conaissance', '', '', '', 'téorie', 'statistiqe', 'stokage', '', 'dicipline', 'come', '', '', '']\n"
     ]
    }
   ],
   "source": [
    "misspelled_words = []\n",
    "\n",
    "for token in tokenized_text:\n",
    "    if token not in tokenized_vocabulary:\n",
    "        misspelled_words.append(token)\n",
    "        \n",
    "print(misspelled_words)"
   ]
  },
  {
   "cell_type": "code",
   "execution_count": null,
   "metadata": {
    "collapsed": true
   },
   "outputs": [],
   "source": []
  }
 ],
 "metadata": {
  "kernelspec": {
   "display_name": "Python [conda root]",
   "language": "python",
   "name": "conda-root-py"
  },
  "language_info": {
   "codemirror_mode": {
    "name": "ipython",
    "version": 3
   },
   "file_extension": ".py",
   "mimetype": "text/x-python",
   "name": "python",
   "nbconvert_exporter": "python",
   "pygments_lexer": "ipython3",
   "version": "3.5.2"
  }
 },
 "nbformat": 4,
 "nbformat_minor": 1
}
