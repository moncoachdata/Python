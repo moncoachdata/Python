{
 "cells": [
  {
   "cell_type": "markdown",
   "metadata": {},
   "source": [
    "# Projet: Explorer les naissances aux US depuis 2000"
   ]
  },
  {
   "cell_type": "markdown",
   "metadata": {},
   "source": [
    "## 1. Introduction au dataset"
   ]
  },
  {
   "cell_type": "markdown",
   "metadata": {},
   "source": [
    "- Lire le fichier \"US_births_2000-2014.csv\"\n",
    "- Le convertir en liste\n",
    "- Afficher les 10 premiers éléments"
   ]
  },
  {
   "cell_type": "code",
   "execution_count": 1,
   "metadata": {
    "collapsed": false
   },
   "outputs": [
    {
     "name": "stdout",
     "output_type": "stream",
     "text": [
      "['year,month,date_of_month,day_of_week,births', '2000,1,1,6,9083', '2000,1,2,7,8006', '2000,1,3,1,11363', '2000,1,4,2,13032', '2000,1,5,3,12558', '2000,1,6,4,12466', '2000,1,7,5,12516', '2000,1,8,6,8934', '2000,1,9,7,7949']\n"
     ]
    }
   ],
   "source": [
    "f = open(\"US_births_2000-2014.csv\", \"r\")\n",
    "US_births = f.read()\n",
    "births_split = US_births.split(\"\\n\")\n",
    "print(births_split[0:10])"
   ]
  },
  {
   "cell_type": "markdown",
   "metadata": {},
   "source": [
    "## 2. Convertir la data en liste de listes"
   ]
  },
  {
   "cell_type": "markdown",
   "metadata": {},
   "source": [
    "- Créer une fonction read_csv() qui à partir du fichier \"US_births_2000-2014.csv\" retourne une liste de listes dans laquelle toutes les valeurs sont des entiers.\n",
    "- Assigner le résultat à us_births_list.\n",
    "- Afficher les 10 premiers éléments."
   ]
  },
  {
   "cell_type": "code",
   "execution_count": 2,
   "metadata": {
    "collapsed": false
   },
   "outputs": [
    {
     "name": "stdout",
     "output_type": "stream",
     "text": [
      "[[2000, 1, 1, 6, 9083], [2000, 1, 2, 7, 8006], [2000, 1, 3, 1, 11363], [2000, 1, 4, 2, 13032], [2000, 1, 5, 3, 12558], [2000, 1, 6, 4, 12466], [2000, 1, 7, 5, 12516], [2000, 1, 8, 6, 8934], [2000, 1, 9, 7, 7949], [2000, 1, 10, 1, 11668]]\n"
     ]
    }
   ],
   "source": [
    "def read_csv(file):\n",
    "    f = open(file, 'r')\n",
    "    string_list = f.read()\n",
    "    string_list = string_list.split('\\n')\n",
    "    string_list = string_list[1:]\n",
    "    \n",
    "    final_list = []\n",
    "    \n",
    "    for row in string_list:\n",
    "        int_fields = []\n",
    "        string_fields = row.split(',')\n",
    "        for row in string_fields:\n",
    "            int_fields.append(int(row))\n",
    "        final_list.append(int_fields)\n",
    "    return(final_list)\n",
    "\n",
    "us_births_list = read_csv('US_births_2000-2014.csv')\n",
    "print(us_births_list[0:10])"
   ]
  },
  {
   "cell_type": "markdown",
   "metadata": {},
   "source": [
    "## 3. Calculer le nombre de naissances par mois"
   ]
  },
  {
   "cell_type": "markdown",
   "metadata": {},
   "source": [
    "- Créer une fonction month_births() qui à partir de la liste de listes us_births_list retourne un dictionnaire contenant pour chaque mois le nombre de naissances.\n",
    "- Assigner le résultat à us_month_births.\n",
    "- Afficher le résultat."
   ]
  },
  {
   "cell_type": "code",
   "execution_count": 3,
   "metadata": {
    "collapsed": false
   },
   "outputs": [
    {
     "name": "stdout",
     "output_type": "stream",
     "text": [
      "{1: 5072588, 2: 4725693, 3: 5172961, 4: 4960750, 5: 5195445, 6: 5163360, 7: 5450418, 8: 5540170, 9: 5399592, 10: 5302865, 11: 5008750, 12: 5194432}\n"
     ]
    }
   ],
   "source": [
    "def month_births(list):\n",
    "    births_per_month = {}\n",
    "    \n",
    "    for li in list:\n",
    "        month = li[1]\n",
    "        births = li[4]\n",
    "        \n",
    "        if month in births_per_month:\n",
    "            births_per_month[month] += births\n",
    "        else:\n",
    "            births_per_month[month] = births\n",
    "    return(births_per_month)\n",
    "\n",
    "us_month_births = month_births(us_births_list)\n",
    "print(us_month_births)"
   ]
  },
  {
   "cell_type": "markdown",
   "metadata": {},
   "source": [
    "## 4. Calculer le nombre de naissances par jour de la semaine"
   ]
  },
  {
   "cell_type": "markdown",
   "metadata": {},
   "source": [
    "- Créer une fonction day_births() qui à partir de la liste de listes us_births_list retourne le nombre de naissances pour chaque jour de la semaine.\n",
    "- Assigner le résultat à us_days_births.\n",
    "- Afficher le résultat"
   ]
  },
  {
   "cell_type": "code",
   "execution_count": 6,
   "metadata": {
    "collapsed": false
   },
   "outputs": [
    {
     "name": "stdout",
     "output_type": "stream",
     "text": [
      "{1: 9316001, 2: 10274874, 3: 10109130, 4: 10045436, 5: 9850199, 6: 6704495, 7: 5886889}\n"
     ]
    }
   ],
   "source": [
    "def day_births(list):\n",
    "    births_per_day = {}\n",
    "    for li in list:\n",
    "        day = li[3]\n",
    "        births = li[4]\n",
    "        if day in births_per_day:\n",
    "            births_per_day[day] += births\n",
    "        else:\n",
    "            births_per_day[day] = births\n",
    "    return(births_per_day)\n",
    "\n",
    "us_days_births = day_births(us_births_list)\n",
    "print(us_days_births)\n",
    "    "
   ]
  },
  {
   "cell_type": "markdown",
   "metadata": {},
   "source": [
    "## 5. Créer une fonction plus générale"
   ]
  },
  {
   "cell_type": "markdown",
   "metadata": {},
   "source": [
    "- Créer une fonction plus générale calc_counts() qui à partir de la liste de listes us_births_list et du numéro de colonne (0 -> année, 1 -> mois, 2 -> jour du mois et 3 -> jour de la semaine) retourne le nombre de naissances pour la colonne choisie.\n",
    "- Tester la fonction avec les années et assigner le résultat à us_year_births."
   ]
  },
  {
   "cell_type": "code",
   "execution_count": 7,
   "metadata": {
    "collapsed": false
   },
   "outputs": [
    {
     "name": "stdout",
     "output_type": "stream",
     "text": [
      "{2000: 4149598, 2001: 4110963, 2002: 4099313, 2003: 4163060, 2004: 4186863, 2005: 4211941, 2006: 4335154, 2007: 4380784, 2008: 4310737, 2009: 4190991, 2010: 4055975, 2011: 4006908, 2012: 4000868, 2013: 3973337, 2014: 4010532}\n"
     ]
    }
   ],
   "source": [
    "def calc_counts(list, column):\n",
    "    births_per_col = {}\n",
    "    \n",
    "    for li in list:\n",
    "        key = li[column]\n",
    "        births = li[4]\n",
    "        if key in births_per_col:\n",
    "            births_per_col[key] += births\n",
    "        else:\n",
    "            births_per_col[key] = births\n",
    "    return(births_per_col)\n",
    "\n",
    "us_year_births = calc_counts(us_births_list, 0)\n",
    "print(us_year_births)"
   ]
  },
  {
   "cell_type": "code",
   "execution_count": null,
   "metadata": {
    "collapsed": true
   },
   "outputs": [],
   "source": []
  }
 ],
 "metadata": {
  "anaconda-cloud": {},
  "kernelspec": {
   "display_name": "Python [conda root]",
   "language": "python",
   "name": "conda-root-py"
  },
  "language_info": {
   "codemirror_mode": {
    "name": "ipython",
    "version": 3
   },
   "file_extension": ".py",
   "mimetype": "text/x-python",
   "name": "python",
   "nbconvert_exporter": "python",
   "pygments_lexer": "ipython3",
   "version": "3.5.2"
  }
 },
 "nbformat": 4,
 "nbformat_minor": 1
}
