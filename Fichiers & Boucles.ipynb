{
 "cells": [
  {
   "cell_type": "markdown",
   "metadata": {},
   "source": [
    "# Fichiers et boucles"
   ]
  },
  {
   "cell_type": "markdown",
   "metadata": {},
   "source": [
    "## Ouvrir et lire un fichier"
   ]
  },
  {
   "cell_type": "markdown",
   "metadata": {},
   "source": [
    "### Ouverture d'un fichier"
   ]
  },
  {
   "cell_type": "code",
   "execution_count": 1,
   "metadata": {
    "collapsed": false
   },
   "outputs": [
    {
     "data": {
      "text/plain": [
       "<_io.TextIOWrapper name='python.txt' mode='r' encoding='cp1252'>"
      ]
     },
     "execution_count": 1,
     "metadata": {},
     "output_type": "execute_result"
    }
   ],
   "source": [
    "# open()\n",
    "open(\"python.txt\", \"r\")"
   ]
  },
  {
   "cell_type": "code",
   "execution_count": 2,
   "metadata": {
    "collapsed": false
   },
   "outputs": [
    {
     "name": "stdout",
     "output_type": "stream",
     "text": [
      "<_io.TextIOWrapper name='python.txt' mode='r' encoding='cp1252'>\n"
     ]
    }
   ],
   "source": [
    "f = open(\"python.txt\", \"r\")\n",
    "print(f)"
   ]
  },
  {
   "cell_type": "markdown",
   "metadata": {},
   "source": [
    "### Lecture d'un fichier"
   ]
  },
  {
   "cell_type": "code",
   "execution_count": 3,
   "metadata": {
    "collapsed": false
   },
   "outputs": [
    {
     "name": "stdout",
     "output_type": "stream",
     "text": [
      "Je lis mon premier fichier !!!\n"
     ]
    }
   ],
   "source": [
    "# read()\n",
    "g = f.read()\n",
    "print(g)"
   ]
  },
  {
   "cell_type": "markdown",
   "metadata": {},
   "source": [
    "### Training"
   ]
  },
  {
   "cell_type": "code",
   "execution_count": 4,
   "metadata": {
    "collapsed": false
   },
   "outputs": [
    {
     "name": "stdout",
     "output_type": "stream",
     "text": [
      "Ain,643309\n",
      "Aisne,554040\n",
      "Allier,353262\n",
      "Alpes-de-Haute-Provence,166298\n",
      "Alpes-Maritimes,1098785\n",
      "Ardèche,332051\n",
      "Ardennes,287775\n",
      "Ariège,158076\n",
      "Aube,316098\n",
      "Aude,375065\n",
      "Aveyron,289901\n",
      "Bas-Rhin,1131812\n",
      "Bouches-du-Rhône,2035475\n",
      "Calvados,708407\n",
      "Cantal,152400\n",
      "Charente,366787\n",
      "Charente-Maritime,656046\n",
      "Cher,318590\n",
      "Corrèze,249684\n",
      "Corse-du-Sud,154100\n",
      "Côte-d'Or,545001\n",
      "Côtes-d'Armor,617413\n",
      "Creuse,124948\n",
      "Deux-Sèvres,384655\n",
      "Dordogne,428651\n",
      "Doubs,549155\n",
      "Drôme,514104\n",
      "Essonne,1286908\n",
      "Eure,616076\n",
      "Eure-et-Loir,445083\n",
      "Finistère,935393\n",
      "Gard,752382\n",
      "Gers,197988\n",
      "Gironde,1556663\n",
      "Guadeloupe,406706\n",
      "Guyane,254845\n",
      "Haute-Corse,175499\n",
      "Haute-Garonne,1344579\n",
      "Haute-Loire,234078\n",
      "Haute-Marne,186698\n",
      "Hautes-Alpes,145213\n",
      "Haute-Saône,246022\n",
      "Haute-Savoie,806447\n",
      "Hautes-Pyrénées,236577\n",
      "Haute-Vienne,384708\n",
      "Haut-Rhin,775941\n",
      "Hauts-de-Seine,1617484\n",
      "Hérault,1127333\n",
      "Ille-et-Vilaine,1060051\n",
      "Indre,232802\n",
      "Indre-et-Loire,619004\n",
      "Isère,1271938\n",
      "Jura,270826\n",
      "La Réunion,541487\n",
      "Landes,414090\n",
      "Loire,774262\n",
      "Loire-Atlantique,1382766\n",
      "Loiret,688098\n",
      "Loir-et-Cher,344121\n",
      "Lot,180016\n",
      "Lot-et-Garonne,343198\n",
      "Lozère,80423\n",
      "Maine-et-Loire,829156\n",
      "Manche,518322\n",
      "Marne,584297\n",
      "Martinique,390252\n",
      "Mayenne,317716\n",
      "Meurthe-et-Moselle,746687\n",
      "Meuse,197763\n",
      "Morbihan,764338\n",
      "Moselle,1065894\n",
      "Nièvre,221048\n",
      "Nord,2640622\n",
      "Oise,838646\n",
      "Orne,297109\n",
      "Paris,2243739\n",
      "Pas-de-Calais,1497668\n",
      "Puy-de-Dôme,661248\n",
      "Pyrénées-Atlantiques,688451\n",
      "Pyrénées-Orientales,474842\n",
      "Rhône,1833002\n",
      "Saône-et-Loire,574229\n",
      "Sarthe,583961\n",
      "Savoie,440777\n",
      "Seine-et-Marne,1400477\n",
      "Seine-Maritime,1284107\n",
      "Seine-Saint-Denis,1582139\n",
      "Somme,583641\n",
      "Tarn,396341\n",
      "Tarn-et-Garonne,258696\n",
      "Territoire de Belfort,147647\n",
      "Val-de-Marne,1377511\n",
      "Val-d'Oise,1221946\n",
      "Var,1055745\n",
      "Vaucluse,566592\n",
      "Vendée,681469\n",
      "Vienne,444347\n",
      "Vosges,386978\n",
      "Yonne,352433\n",
      "Yvelines,1449398\n"
     ]
    }
   ],
   "source": [
    "f = open(\"departements_fr.csv\", \"r\")\n",
    "data = f.read()\n",
    "print(data)"
   ]
  },
  {
   "cell_type": "markdown",
   "metadata": {},
   "source": [
    "## Séparation des éléments"
   ]
  },
  {
   "cell_type": "markdown",
   "metadata": {},
   "source": [
    "### Création d'une liste à partir d'une chaine de caractères"
   ]
  },
  {
   "cell_type": "code",
   "execution_count": 6,
   "metadata": {
    "collapsed": false
   },
   "outputs": [
    {
     "data": {
      "text/plain": [
       "str"
      ]
     },
     "execution_count": 6,
     "metadata": {},
     "output_type": "execute_result"
    }
   ],
   "source": [
    "type(data)"
   ]
  },
  {
   "cell_type": "code",
   "execution_count": 7,
   "metadata": {
    "collapsed": false
   },
   "outputs": [
    {
     "name": "stdout",
     "output_type": "stream",
     "text": [
      "['Tom', 'Seb', 'Bob']\n"
     ]
    }
   ],
   "source": [
    "# split()\n",
    "names = \"Tom,Seb,Bob\"\n",
    "split_list = names.split(\",\")\n",
    "print(split_list)"
   ]
  },
  {
   "cell_type": "markdown",
   "metadata": {},
   "source": [
    "### Training"
   ]
  },
  {
   "cell_type": "code",
   "execution_count": 8,
   "metadata": {
    "collapsed": false
   },
   "outputs": [
    {
     "name": "stdout",
     "output_type": "stream",
     "text": [
      "['Ain,643309', 'Aisne,554040', 'Allier,353262', 'Alpes-de-Haute-Provence,166298', 'Alpes-Maritimes,1098785']\n"
     ]
    }
   ],
   "source": [
    "rows = data.split('\\n')\n",
    "print(rows[0:5])"
   ]
  },
  {
   "cell_type": "markdown",
   "metadata": {},
   "source": [
    "## les boucles / loops"
   ]
  },
  {
   "cell_type": "code",
   "execution_count": 13,
   "metadata": {
    "collapsed": false
   },
   "outputs": [
    {
     "name": "stdout",
     "output_type": "stream",
     "text": [
      "Paris\n",
      "Paris\n",
      "Paris\n",
      "Madrid\n",
      "Madrid\n",
      "Madrid\n",
      "Rome\n",
      "Rome\n",
      "Rome\n"
     ]
    }
   ],
   "source": [
    "cities = [\"Paris\", \"Madrid\", \"Rome\"]\n",
    "\n",
    "for city in cities:\n",
    "    print(city)\n",
    "    print(city)\n",
    "    print(city)"
   ]
  },
  {
   "cell_type": "markdown",
   "metadata": {},
   "source": [
    "### Training"
   ]
  },
  {
   "cell_type": "code",
   "execution_count": 14,
   "metadata": {
    "collapsed": false
   },
   "outputs": [
    {
     "name": "stdout",
     "output_type": "stream",
     "text": [
      "Ain,643309\n",
      "Aisne,554040\n",
      "Allier,353262\n",
      "Alpes-de-Haute-Provence,166298\n",
      "Alpes-Maritimes,1098785\n",
      "Ardèche,332051\n",
      "Ardennes,287775\n",
      "Ariège,158076\n",
      "Aube,316098\n",
      "Aude,375065\n"
     ]
    }
   ],
   "source": [
    "ten_rows = rows[0:10]\n",
    "\n",
    "for row in ten_rows:\n",
    "    print(row)"
   ]
  },
  {
   "cell_type": "markdown",
   "metadata": {},
   "source": [
    "## Liste de listes"
   ]
  },
  {
   "cell_type": "code",
   "execution_count": 16,
   "metadata": {
    "collapsed": false
   },
   "outputs": [
    {
     "name": "stdout",
     "output_type": "stream",
     "text": [
      "[['Paris', '45'], ['Madrid', '171'], ['Rome', '12']]\n"
     ]
    }
   ],
   "source": [
    "cities_number = [\"Paris,45\", \"Madrid,171\", \"Rome,12\"]\n",
    "\n",
    "final_list = []\n",
    "\n",
    "for row in cities_number:\n",
    "    split_list = row.split(',')\n",
    "    final_list.append(split_list)\n",
    "    \n",
    "print(final_list)"
   ]
  },
  {
   "cell_type": "code",
   "execution_count": 17,
   "metadata": {
    "collapsed": false
   },
   "outputs": [
    {
     "name": "stdout",
     "output_type": "stream",
     "text": [
      "['Paris', '45']\n"
     ]
    }
   ],
   "source": [
    "print(final_list[0])"
   ]
  },
  {
   "cell_type": "code",
   "execution_count": 18,
   "metadata": {
    "collapsed": false
   },
   "outputs": [
    {
     "name": "stdout",
     "output_type": "stream",
     "text": [
      "['Madrid', '171']\n"
     ]
    }
   ],
   "source": [
    "print(final_list[1])"
   ]
  },
  {
   "cell_type": "code",
   "execution_count": 19,
   "metadata": {
    "collapsed": false
   },
   "outputs": [
    {
     "name": "stdout",
     "output_type": "stream",
     "text": [
      "['Rome', '12']\n"
     ]
    }
   ],
   "source": [
    "print(final_list[2])"
   ]
  },
  {
   "cell_type": "markdown",
   "metadata": {},
   "source": [
    "### Training"
   ]
  },
  {
   "cell_type": "code",
   "execution_count": 20,
   "metadata": {
    "collapsed": false
   },
   "outputs": [
    {
     "name": "stdout",
     "output_type": "stream",
     "text": [
      "[['Ain', '643309'], ['Aisne', '554040'], ['Allier', '353262'], ['Alpes-de-Haute-Provence', '166298'], ['Alpes-Maritimes', '1098785']]\n"
     ]
    }
   ],
   "source": [
    "final_data = []\n",
    "\n",
    "for row in rows:\n",
    "    split_list = row.split(',')\n",
    "    final_data.append(split_list)\n",
    "    \n",
    "print(final_data[0:5])"
   ]
  },
  {
   "cell_type": "markdown",
   "metadata": {},
   "source": [
    "## Récupérer et afficher les éléments d'une liste de listes"
   ]
  },
  {
   "cell_type": "code",
   "execution_count": 22,
   "metadata": {
    "collapsed": false
   },
   "outputs": [
    {
     "name": "stdout",
     "output_type": "stream",
     "text": [
      "['Ain', '643309']\n"
     ]
    }
   ],
   "source": [
    "first_list = final_data[0]\n",
    "print(first_list)"
   ]
  },
  {
   "cell_type": "code",
   "execution_count": 23,
   "metadata": {
    "collapsed": false
   },
   "outputs": [
    {
     "name": "stdout",
     "output_type": "stream",
     "text": [
      "Ain\n"
     ]
    }
   ],
   "source": [
    "first_list_first_value = first_list[0]\n",
    "print(first_list_first_value)"
   ]
  },
  {
   "cell_type": "code",
   "execution_count": 24,
   "metadata": {
    "collapsed": false
   },
   "outputs": [
    {
     "name": "stdout",
     "output_type": "stream",
     "text": [
      "Ain\n"
     ]
    }
   ],
   "source": [
    "first_list_first_value = final_data[0][0] # 1ere liste 1er élément\n",
    "print(first_list_first_value)"
   ]
  },
  {
   "cell_type": "code",
   "execution_count": 25,
   "metadata": {
    "collapsed": false
   },
   "outputs": [
    {
     "name": "stdout",
     "output_type": "stream",
     "text": [
      "Aisne\n"
     ]
    }
   ],
   "source": [
    "second_list_first_value = final_data[1][0] # 2e liste 1er élément\n",
    "print(second_list_first_value)"
   ]
  },
  {
   "cell_type": "code",
   "execution_count": 26,
   "metadata": {
    "collapsed": false
   },
   "outputs": [
    {
     "name": "stdout",
     "output_type": "stream",
     "text": [
      "554040\n"
     ]
    }
   ],
   "source": [
    "second_list_second_value = final_data[1][1] # 2e liste 2e élément\n",
    "print(second_list_second_value)"
   ]
  },
  {
   "cell_type": "markdown",
   "metadata": {},
   "source": [
    "### Boucle à travers une liste de listes"
   ]
  },
  {
   "cell_type": "code",
   "execution_count": 27,
   "metadata": {
    "collapsed": false
   },
   "outputs": [
    {
     "name": "stdout",
     "output_type": "stream",
     "text": [
      "['Ain', 'Aisne', 'Allier', 'Alpes-de-Haute-Provence', 'Alpes-Maritimes']\n"
     ]
    }
   ],
   "source": [
    "five_elements = final_data[0:5]\n",
    "\n",
    "departments_list = []\n",
    "\n",
    "departments_list.append(five_elements[0][0])\n",
    "departments_list.append(five_elements[1][0])\n",
    "departments_list.append(five_elements[2][0])\n",
    "departments_list.append(five_elements[3][0])\n",
    "departments_list.append(five_elements[4][0])\n",
    "\n",
    "print(departments_list)"
   ]
  },
  {
   "cell_type": "code",
   "execution_count": 28,
   "metadata": {
    "collapsed": false
   },
   "outputs": [
    {
     "name": "stdout",
     "output_type": "stream",
     "text": [
      "['643309', '554040', '353262', '166298', '1098785']\n"
     ]
    }
   ],
   "source": [
    "department_populations = []\n",
    "\n",
    "for row in five_elements:\n",
    "    department_population = row[1]\n",
    "    department_populations.append(department_population)\n",
    "    \n",
    "print(department_populations)"
   ]
  },
  {
   "cell_type": "markdown",
   "metadata": {},
   "source": [
    "### Training"
   ]
  },
  {
   "cell_type": "code",
   "execution_count": 29,
   "metadata": {
    "collapsed": false
   },
   "outputs": [
    {
     "name": "stdout",
     "output_type": "stream",
     "text": [
      "['Ain', 'Aisne', 'Allier', 'Alpes-de-Haute-Provence', 'Alpes-Maritimes', 'Ardèche', 'Ardennes', 'Ariège', 'Aube', 'Aude', 'Aveyron', 'Bas-Rhin', 'Bouches-du-Rhône', 'Calvados', 'Cantal', 'Charente', 'Charente-Maritime', 'Cher', 'Corrèze', 'Corse-du-Sud', \"Côte-d'Or\", \"Côtes-d'Armor\", 'Creuse', 'Deux-Sèvres', 'Dordogne', 'Doubs', 'Drôme', 'Essonne', 'Eure', 'Eure-et-Loir', 'Finistère', 'Gard', 'Gers', 'Gironde', 'Guadeloupe', 'Guyane', 'Haute-Corse', 'Haute-Garonne', 'Haute-Loire', 'Haute-Marne', 'Hautes-Alpes', 'Haute-Saône', 'Haute-Savoie', 'Hautes-Pyrénées', 'Haute-Vienne', 'Haut-Rhin', 'Hauts-de-Seine', 'Hérault', 'Ille-et-Vilaine', 'Indre', 'Indre-et-Loire', 'Isère', 'Jura', 'La Réunion', 'Landes', 'Loire', 'Loire-Atlantique', 'Loiret', 'Loir-et-Cher', 'Lot', 'Lot-et-Garonne', 'Lozère', 'Maine-et-Loire', 'Manche', 'Marne', 'Martinique', 'Mayenne', 'Meurthe-et-Moselle', 'Meuse', 'Morbihan', 'Moselle', 'Nièvre', 'Nord', 'Oise', 'Orne', 'Paris', 'Pas-de-Calais', 'Puy-de-Dôme', 'Pyrénées-Atlantiques', 'Pyrénées-Orientales', 'Rhône', 'Saône-et-Loire', 'Sarthe', 'Savoie', 'Seine-et-Marne', 'Seine-Maritime', 'Seine-Saint-Denis', 'Somme', 'Tarn', 'Tarn-et-Garonne', 'Territoire de Belfort', 'Val-de-Marne', \"Val-d'Oise\", 'Var', 'Vaucluse', 'Vendée', 'Vienne', 'Vosges', 'Yonne', 'Yvelines']\n"
     ]
    }
   ],
   "source": [
    "departments_list = []\n",
    "\n",
    "for row in final_data:\n",
    "    dep = row[0]\n",
    "    departments_list.append(dep)\n",
    "    \n",
    "print(departments_list)"
   ]
  },
  {
   "cell_type": "code",
   "execution_count": null,
   "metadata": {
    "collapsed": true
   },
   "outputs": [],
   "source": []
  }
 ],
 "metadata": {
  "kernelspec": {
   "display_name": "Python [conda root]",
   "language": "python",
   "name": "conda-root-py"
  },
  "language_info": {
   "codemirror_mode": {
    "name": "ipython",
    "version": 3
   },
   "file_extension": ".py",
   "mimetype": "text/x-python",
   "name": "python",
   "nbconvert_exporter": "python",
   "pygments_lexer": "ipython3",
   "version": "3.5.2"
  }
 },
 "nbformat": 4,
 "nbformat_minor": 1
}
