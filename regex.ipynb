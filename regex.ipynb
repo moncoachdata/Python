{
 "cells": [
  {
   "cell_type": "markdown",
   "metadata": {},
   "source": [
    "# Les expressions régulières (regex)"
   ]
  },
  {
   "cell_type": "markdown",
   "metadata": {},
   "source": [
    "## Introduction"
   ]
  },
  {
   "cell_type": "code",
   "execution_count": null,
   "metadata": {
    "collapsed": true
   },
   "outputs": [],
   "source": [
    "strings = [\"data science\", \"big data\"]\n",
    "regex = \"data\""
   ]
  },
  {
   "cell_type": "markdown",
   "metadata": {},
   "source": [
    "## Caractères génériques"
   ]
  },
  {
   "cell_type": "code",
   "execution_count": null,
   "metadata": {
    "collapsed": true
   },
   "outputs": [],
   "source": [
    "strings = [\"but\", \"batte\", \"robotique\"]\n",
    "regex = \"b.t\""
   ]
  },
  {
   "cell_type": "markdown",
   "metadata": {},
   "source": [
    "## Rechercher le début et la fin d'une chaine de caractères"
   ]
  },
  {
   "cell_type": "code",
   "execution_count": 2,
   "metadata": {
    "collapsed": true
   },
   "outputs": [],
   "source": [
    "# ^\n",
    "\n",
    "# $\n",
    "\n",
    "# \"^a\"\n",
    "\n",
    "# \"a$\""
   ]
  },
  {
   "cell_type": "code",
   "execution_count": 3,
   "metadata": {
    "collapsed": true
   },
   "outputs": [],
   "source": [
    "strings = [\"ils est sur le feu\", \"fou\"]\n",
    "bad_string = \"un feu de paille\"\n",
    "\n",
    "regex = \"f.u$\""
   ]
  },
  {
   "cell_type": "markdown",
   "metadata": {},
   "source": [
    "## Introduction dataset"
   ]
  },
  {
   "cell_type": "code",
   "execution_count": 6,
   "metadata": {
    "collapsed": false
   },
   "outputs": [
    {
     "data": {
      "text/plain": [
       "[['Title', 'Score', 'Time', 'Gold', 'NumComs'],\n",
       " ['What\\'s your internet \"white whale\", something you\\'ve been searching for years to find with no luck?',\n",
       "  '11510',\n",
       "  '1433213314.0',\n",
       "  '1',\n",
       "  '26195'],\n",
       " [\"What's your favorite video that is 10 seconds or less?\",\n",
       "  '8656',\n",
       "  '1434205517.0',\n",
       "  '4',\n",
       "  '8479'],\n",
       " ['What are some interesting tests you can take to find out about yourself?',\n",
       "  '8480',\n",
       "  '1443409636.0',\n",
       "  '1',\n",
       "  '4055'],\n",
       " [\"PhD's of Reddit. What is a dumbed down summary of your thesis?\",\n",
       "  '7927',\n",
       "  '1440188623.0',\n",
       "  '0',\n",
       "  '13201']]"
      ]
     },
     "execution_count": 6,
     "metadata": {},
     "output_type": "execute_result"
    }
   ],
   "source": [
    "import csv\n",
    "\n",
    "f = open(\"askreddit_2015.csv\", encoding='utf-8')\n",
    "csvreader = csv.reader(f)\n",
    "posts = list(csvreader)\n",
    "posts[0:5]"
   ]
  },
  {
   "cell_type": "code",
   "execution_count": 8,
   "metadata": {
    "collapsed": false
   },
   "outputs": [],
   "source": [
    "posts = posts[1:]"
   ]
  },
  {
   "cell_type": "code",
   "execution_count": 9,
   "metadata": {
    "collapsed": false
   },
   "outputs": [
    {
     "name": "stdout",
     "output_type": "stream",
     "text": [
      "['What\\'s your internet \"white whale\", something you\\'ve been searching for years to find with no luck?', '11510', '1433213314.0', '1', '26195']\n",
      "[\"What's your favorite video that is 10 seconds or less?\", '8656', '1434205517.0', '4', '8479']\n",
      "['What are some interesting tests you can take to find out about yourself?', '8480', '1443409636.0', '1', '4055']\n",
      "[\"PhD's of Reddit. What is a dumbed down summary of your thesis?\", '7927', '1440188623.0', '0', '13201']\n",
      "['What is cool to be good at, yet uncool to be REALLY good at?', '7711', '1440082910.0', '0', '20325']\n",
      "['[Serious] Redditors currently in a relationship, besides dinner and a movie, what are your favorite activities for date night?', '7598', '1439993280.0', '2', '5389']\n",
      "[\"Parents of Reddit, what's something that your kid has done that you pretended to be angry about but secretly impressed or amused you?\", '7553', '1439161809.0', '0', '11520']\n",
      "['What is a good subreddit to binge read the All Time Top Posts of?', '7498', '1438822288.0', '0', '2780']\n",
      "['What would the person who named Walkie Talkies have named other items?', '7501', '1447904351.0', '4', '6720']\n",
      "[\"People who grew up in a different socioeconomic class as your significant others, what are the notable differences you've noticed and how does it affect your relationship (if at all)?\", '7419', '1440358069.0', '0', '8603']\n"
     ]
    }
   ],
   "source": [
    "for post in posts[:10]:\n",
    "    print(post)"
   ]
  },
  {
   "cell_type": "markdown",
   "metadata": {},
   "source": [
    "## Compter les correspondances avec le module re()"
   ]
  },
  {
   "cell_type": "code",
   "execution_count": 14,
   "metadata": {
    "collapsed": false
   },
   "outputs": [
    {
     "name": "stdout",
     "output_type": "stream",
     "text": [
      "Trouvé\n"
     ]
    }
   ],
   "source": [
    "# re.search(regex, string)\n",
    "\n",
    "import re\n",
    "\n",
    "if re.search(\"f.\", \"kung fu\") is not None:\n",
    "    print(\"Trouvé\")\n",
    "else:\n",
    "    print(\"Aucune correspondance\")"
   ]
  },
  {
   "cell_type": "code",
   "execution_count": 15,
   "metadata": {
    "collapsed": true
   },
   "outputs": [],
   "source": [
    "# \"of Reddit\""
   ]
  },
  {
   "cell_type": "markdown",
   "metadata": {},
   "source": [
    "### Training"
   ]
  },
  {
   "cell_type": "code",
   "execution_count": 16,
   "metadata": {
    "collapsed": false
   },
   "outputs": [
    {
     "name": "stdout",
     "output_type": "stream",
     "text": [
      "76\n"
     ]
    }
   ],
   "source": [
    "import re\n",
    "\n",
    "of_reddit_count = 0\n",
    "for row in posts:\n",
    "    if re.search(\"of Reddit\", row[0]) is not None:\n",
    "        of_reddit_count += 1\n",
    "\n",
    "print(of_reddit_count)"
   ]
  },
  {
   "cell_type": "markdown",
   "metadata": {},
   "source": [
    "## Crochets pour matcher avec plusieurs lettres"
   ]
  },
  {
   "cell_type": "code",
   "execution_count": 17,
   "metadata": {
    "collapsed": true
   },
   "outputs": [],
   "source": [
    "regex = \"[slm]ac\" \n",
    "strings = [\"sac\", \"lac\", \"mac\"]"
   ]
  },
  {
   "cell_type": "code",
   "execution_count": 18,
   "metadata": {
    "collapsed": false
   },
   "outputs": [
    {
     "name": "stdout",
     "output_type": "stream",
     "text": [
      "102\n"
     ]
    }
   ],
   "source": [
    "of_reddit_count = 0\n",
    "for row in posts:\n",
    "    if re.search(\"of [Rr]eddit\", row[0]) is not None:\n",
    "        of_reddit_count += 1\n",
    "        \n",
    "print(of_reddit_count)"
   ]
  },
  {
   "cell_type": "markdown",
   "metadata": {},
   "source": [
    "## Ignorer des caractères spéciaux"
   ]
  },
  {
   "cell_type": "code",
   "execution_count": 19,
   "metadata": {
    "collapsed": true
   },
   "outputs": [],
   "source": [
    "# [Serious]\n",
    "\n",
    "regex = \"[Serious]\"\n",
    "\n",
    "# \\\n",
    "\n",
    "regex = \"\\.$\""
   ]
  },
  {
   "cell_type": "code",
   "execution_count": 20,
   "metadata": {
    "collapsed": false
   },
   "outputs": [
    {
     "name": "stdout",
     "output_type": "stream",
     "text": [
      "69\n"
     ]
    }
   ],
   "source": [
    "import re\n",
    "\n",
    "serious_count = 0\n",
    "for row in posts:\n",
    "    if re.search(\"\\[Serious\\]\", row[0]) is not None:\n",
    "        serious_count += 1\n",
    "        \n",
    "print(serious_count)"
   ]
  },
  {
   "cell_type": "markdown",
   "metadata": {},
   "source": [
    "## Améliorer notre regex"
   ]
  },
  {
   "cell_type": "code",
   "execution_count": 22,
   "metadata": {
    "collapsed": false
   },
   "outputs": [
    {
     "name": "stdout",
     "output_type": "stream",
     "text": [
      "80\n"
     ]
    }
   ],
   "source": [
    "serious_count = 0\n",
    "\n",
    "for row in posts:\n",
    "    if re.search(\"[\\[\\(][Ss]erious[\\]\\)]\", row[0]) is not None:\n",
    "        serious_count += 1\n",
    "        \n",
    "print(serious_count)"
   ]
  },
  {
   "cell_type": "markdown",
   "metadata": {},
   "source": [
    "## Combiner plusieurs regex"
   ]
  },
  {
   "cell_type": "code",
   "execution_count": 23,
   "metadata": {
    "collapsed": true
   },
   "outputs": [],
   "source": [
    "# ^\n",
    "\n",
    "# $\n",
    "\n",
    "# |"
   ]
  },
  {
   "cell_type": "markdown",
   "metadata": {},
   "source": [
    "### Training"
   ]
  },
  {
   "cell_type": "code",
   "execution_count": 24,
   "metadata": {
    "collapsed": false
   },
   "outputs": [
    {
     "name": "stdout",
     "output_type": "stream",
     "text": [
      "69\n",
      "11\n",
      "80\n"
     ]
    }
   ],
   "source": [
    "serious_start_count = 0\n",
    "serious_end_count = 0\n",
    "serious_count_final = 0\n",
    "\n",
    "for row in posts:\n",
    "    if re.search(\"^[\\[\\(][Ss]erious[\\]\\)]\", row[0]) is not None:\n",
    "        serious_start_count += 1\n",
    "    if re.search(\"[\\[\\(][Ss]erious[\\]\\)]$\", row[0]) is not None:\n",
    "        serious_end_count += 1\n",
    "    if re.search(\"^[\\[\\(][Ss]erious[\\]\\)]|[\\[\\(][Ss]erious[\\]\\)]$\", row[0]) is not None:\n",
    "        serious_count_final +=1\n",
    "        \n",
    "print(serious_start_count)\n",
    "print(serious_end_count)\n",
    "print(serious_count_final)"
   ]
  },
  {
   "cell_type": "markdown",
   "metadata": {},
   "source": [
    "## Modifier des chaines de caractères avec regex"
   ]
  },
  {
   "cell_type": "code",
   "execution_count": 35,
   "metadata": {
    "collapsed": false
   },
   "outputs": [
    {
     "data": {
      "text/plain": [
       "'hi world !'"
      ]
     },
     "execution_count": 35,
     "metadata": {},
     "output_type": "execute_result"
    }
   ],
   "source": [
    "# sub()\n",
    "\n",
    "re.sub('yo', 'hello', 'hi world !')"
   ]
  },
  {
   "cell_type": "markdown",
   "metadata": {},
   "source": [
    "### Training"
   ]
  },
  {
   "cell_type": "code",
   "execution_count": 36,
   "metadata": {
    "collapsed": true
   },
   "outputs": [],
   "source": [
    "posts_new = []\n",
    "for row in posts:\n",
    "    row[0] = re.sub(\"[\\[\\(][Ss]erious[\\]\\)]\", \"[Serious]\", row[0])\n",
    "    posts_new.append(row)"
   ]
  },
  {
   "cell_type": "code",
   "execution_count": 37,
   "metadata": {
    "collapsed": false
   },
   "outputs": [
    {
     "name": "stdout",
     "output_type": "stream",
     "text": [
      "[['What\\'s your internet \"white whale\", something you\\'ve been searching for years to find with no luck?', '11510', '1433213314.0', '1', '26195'], [\"What's your favorite video that is 10 seconds or less?\", '8656', '1434205517.0', '4', '8479'], ['What are some interesting tests you can take to find out about yourself?', '8480', '1443409636.0', '1', '4055'], [\"PhD's of Reddit. What is a dumbed down summary of your thesis?\", '7927', '1440188623.0', '0', '13201'], ['What is cool to be good at, yet uncool to be REALLY good at?', '7711', '1440082910.0', '0', '20325'], ['[Serious] Redditors currently in a relationship, besides dinner and a movie, what are your favorite activities for date night?', '7598', '1439993280.0', '2', '5389'], [\"Parents of Reddit, what's something that your kid has done that you pretended to be angry about but secretly impressed or amused you?\", '7553', '1439161809.0', '0', '11520'], ['What is a good subreddit to binge read the All Time Top Posts of?', '7498', '1438822288.0', '0', '2780'], ['What would the person who named Walkie Talkies have named other items?', '7501', '1447904351.0', '4', '6720'], [\"People who grew up in a different socioeconomic class as your significant others, what are the notable differences you've noticed and how does it affect your relationship (if at all)?\", '7419', '1440358069.0', '0', '8603']]\n"
     ]
    }
   ],
   "source": [
    "print(posts_new[0:10])"
   ]
  },
  {
   "cell_type": "markdown",
   "metadata": {},
   "source": [
    "## Matcher les années avec regex"
   ]
  },
  {
   "cell_type": "code",
   "execution_count": 40,
   "metadata": {
    "collapsed": true
   },
   "outputs": [],
   "source": [
    "# [0-9]\n",
    "\n",
    "# [a-z]\n",
    "\n",
    "# [0-2]\n",
    "\n",
    "# [1-2][0-9][0-9][0-9]\n",
    "\n",
    "# [1-2][0-9]{3}"
   ]
  },
  {
   "cell_type": "code",
   "execution_count": 41,
   "metadata": {
    "collapsed": true
   },
   "outputs": [],
   "source": [
    "year_string = []\n",
    "for string in strings:\n",
    "    if re.search(\"[1-2][0-9]{3}\", string) is not None:\n",
    "        year_strings.append(string)"
   ]
  },
  {
   "cell_type": "markdown",
   "metadata": {},
   "source": [
    "## Extraire toutes les années"
   ]
  },
  {
   "cell_type": "code",
   "execution_count": 49,
   "metadata": {
    "collapsed": false
   },
   "outputs": [
    {
     "data": {
      "text/plain": [
       "['a', 'b', 'c']"
      ]
     },
     "execution_count": 49,
     "metadata": {},
     "output_type": "execute_result"
    }
   ],
   "source": [
    "# findall()\n",
    "\n",
    "re.findall(\"[a-z]\", \"abc123\")"
   ]
  },
  {
   "cell_type": "code",
   "execution_count": 50,
   "metadata": {
    "collapsed": true
   },
   "outputs": [],
   "source": [
    "string_years = \"On est déjà en 2017, une année de plus que 2016 et une de moins que 2018\"\n",
    "years = re.findall(\"[1-2][0-9]{3}\", string_years)"
   ]
  },
  {
   "cell_type": "code",
   "execution_count": 51,
   "metadata": {
    "collapsed": false
   },
   "outputs": [
    {
     "name": "stdout",
     "output_type": "stream",
     "text": [
      "['2017', '2016', '2018']\n"
     ]
    }
   ],
   "source": [
    "print(years)"
   ]
  },
  {
   "cell_type": "code",
   "execution_count": null,
   "metadata": {
    "collapsed": true
   },
   "outputs": [],
   "source": []
  }
 ],
 "metadata": {
  "kernelspec": {
   "display_name": "Python [conda root]",
   "language": "python",
   "name": "conda-root-py"
  },
  "language_info": {
   "codemirror_mode": {
    "name": "ipython",
    "version": 3
   },
   "file_extension": ".py",
   "mimetype": "text/x-python",
   "name": "python",
   "nbconvert_exporter": "python",
   "pygments_lexer": "ipython3",
   "version": "3.5.2"
  }
 },
 "nbformat": 4,
 "nbformat_minor": 1
}
