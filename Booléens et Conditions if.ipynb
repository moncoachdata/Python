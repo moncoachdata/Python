{
 "cells": [
  {
   "cell_type": "markdown",
   "metadata": {},
   "source": [
    "# Booléens et Conditions if"
   ]
  },
  {
   "cell_type": "markdown",
   "metadata": {},
   "source": [
    "## Booléens et Opérateurs"
   ]
  },
  {
   "cell_type": "code",
   "execution_count": 1,
   "metadata": {
    "collapsed": false
   },
   "outputs": [
    {
     "name": "stdout",
     "output_type": "stream",
     "text": [
      "True\n"
     ]
    }
   ],
   "source": [
    "# ==\n",
    "print(2 == 2)"
   ]
  },
  {
   "cell_type": "code",
   "execution_count": 2,
   "metadata": {
    "collapsed": false
   },
   "outputs": [
    {
     "name": "stdout",
     "output_type": "stream",
     "text": [
      "False\n"
     ]
    }
   ],
   "source": [
    "print(5 == 7)"
   ]
  },
  {
   "cell_type": "code",
   "execution_count": 3,
   "metadata": {
    "collapsed": false
   },
   "outputs": [
    {
     "name": "stdout",
     "output_type": "stream",
     "text": [
      "False\n"
     ]
    }
   ],
   "source": [
    "# !=\n",
    "print(8 != 8)"
   ]
  },
  {
   "cell_type": "code",
   "execution_count": 4,
   "metadata": {
    "collapsed": false
   },
   "outputs": [
    {
     "name": "stdout",
     "output_type": "stream",
     "text": [
      "True\n"
     ]
    }
   ],
   "source": [
    "print(8 != 10)"
   ]
  },
  {
   "cell_type": "code",
   "execution_count": 8,
   "metadata": {
    "collapsed": false
   },
   "outputs": [
    {
     "name": "stdout",
     "output_type": "stream",
     "text": [
      "False\n"
     ]
    }
   ],
   "source": [
    "# > (ou >=)\n",
    "print(8 > 8)"
   ]
  },
  {
   "cell_type": "code",
   "execution_count": 6,
   "metadata": {
    "collapsed": false
   },
   "outputs": [
    {
     "name": "stdout",
     "output_type": "stream",
     "text": [
      "True\n"
     ]
    }
   ],
   "source": [
    "print(8 >= 5)"
   ]
  },
  {
   "cell_type": "code",
   "execution_count": 9,
   "metadata": {
    "collapsed": false
   },
   "outputs": [
    {
     "name": "stdout",
     "output_type": "stream",
     "text": [
      "False\n"
     ]
    }
   ],
   "source": [
    "# < (ou <=)\n",
    "print(9 <= 8)"
   ]
  },
  {
   "cell_type": "code",
   "execution_count": 10,
   "metadata": {
    "collapsed": false
   },
   "outputs": [
    {
     "name": "stdout",
     "output_type": "stream",
     "text": [
      "True\n"
     ]
    }
   ],
   "source": [
    "print(8 < 10)"
   ]
  },
  {
   "cell_type": "code",
   "execution_count": 11,
   "metadata": {
    "collapsed": true
   },
   "outputs": [],
   "source": [
    "u = (8 != 8)"
   ]
  },
  {
   "cell_type": "code",
   "execution_count": 12,
   "metadata": {
    "collapsed": false
   },
   "outputs": [
    {
     "name": "stdout",
     "output_type": "stream",
     "text": [
      "False\n"
     ]
    }
   ],
   "source": [
    "print(u)"
   ]
  },
  {
   "cell_type": "code",
   "execution_count": 13,
   "metadata": {
    "collapsed": false
   },
   "outputs": [
    {
     "name": "stdout",
     "output_type": "stream",
     "text": [
      "True\n"
     ]
    }
   ],
   "source": [
    "print(['chien', 'chat'] == ['chien', 'chat'])"
   ]
  },
  {
   "cell_type": "code",
   "execution_count": 14,
   "metadata": {
    "collapsed": false
   },
   "outputs": [
    {
     "name": "stdout",
     "output_type": "stream",
     "text": [
      "True\n"
     ]
    }
   ],
   "source": [
    "print(5.0 == 5.0)"
   ]
  },
  {
   "cell_type": "code",
   "execution_count": 15,
   "metadata": {
    "collapsed": true
   },
   "outputs": [],
   "source": [
    "f = open(\"departements_fr.csv\", \"r\")\n",
    "data = f.read()\n",
    "rows = data.split('\\n')\n",
    "\n",
    "departments = []\n",
    "int_dep_populations = []\n",
    "\n",
    "for row in rows:\n",
    "    values = row.split(',')\n",
    "    int_dep_populations.append(int(values[1]))\n",
    "    departments.append(values[0])"
   ]
  },
  {
   "cell_type": "markdown",
   "metadata": {},
   "source": [
    "### Training 1"
   ]
  },
  {
   "cell_type": "code",
   "execution_count": 18,
   "metadata": {
    "collapsed": false
   },
   "outputs": [
    {
     "name": "stdout",
     "output_type": "stream",
     "text": [
      "True\n",
      "False\n",
      "False\n"
     ]
    }
   ],
   "source": [
    "first_ain = (departments[0] == \"Ain\")\n",
    "second_ain = (departments[1] == \"Ain\")\n",
    "first_last = (departments[0] == departments[len(departments) - 1])\n",
    "\n",
    "print(first_ain)\n",
    "print(second_ain)\n",
    "print(first_last)"
   ]
  },
  {
   "cell_type": "markdown",
   "metadata": {},
   "source": [
    "### Training 2"
   ]
  },
  {
   "cell_type": "code",
   "execution_count": 19,
   "metadata": {
    "collapsed": false
   },
   "outputs": [
    {
     "name": "stdout",
     "output_type": "stream",
     "text": [
      "True\n",
      "False\n",
      "False\n"
     ]
    }
   ],
   "source": [
    "first_500000 = (int_dep_populations[0] > 500000)\n",
    "first_650000 = (int_dep_populations[0] > 650000)\n",
    "first_last = (int_dep_populations[0] >= int_dep_populations[len(int_dep_populations) - 1])\n",
    "\n",
    "print(first_500000)\n",
    "print(first_650000)\n",
    "print(first_last)"
   ]
  },
  {
   "cell_type": "code",
   "execution_count": 20,
   "metadata": {
    "collapsed": false
   },
   "outputs": [
    {
     "name": "stdout",
     "output_type": "stream",
     "text": [
      "[643309, 554040, 353262, 166298, 1098785, 332051, 287775, 158076, 316098, 375065, 289901, 1131812, 2035475, 708407, 152400, 366787, 656046, 318590, 249684, 154100, 545001, 617413, 124948, 384655, 428651, 549155, 514104, 1286908, 616076, 445083, 935393, 752382, 197988, 1556663, 406706, 254845, 175499, 1344579, 234078, 186698, 145213, 246022, 806447, 236577, 384708, 775941, 1617484, 1127333, 1060051, 232802, 619004, 1271938, 270826, 541487, 414090, 774262, 1382766, 688098, 344121, 180016, 343198, 80423, 829156, 518322, 584297, 390252, 317716, 746687, 197763, 764338, 1065894, 221048, 2640622, 838646, 297109, 2243739, 1497668, 661248, 688451, 474842, 1833002, 574229, 583961, 440777, 1400477, 1284107, 1582139, 583641, 396341, 258696, 147647, 1377511, 1221946, 1055745, 566592, 681469, 444347, 386978, 352433, 1449398]\n"
     ]
    }
   ],
   "source": [
    "print(int_dep_populations)"
   ]
  },
  {
   "cell_type": "markdown",
   "metadata": {},
   "source": [
    "## La condition if"
   ]
  },
  {
   "cell_type": "code",
   "execution_count": 22,
   "metadata": {
    "collapsed": false
   },
   "outputs": [
    {
     "name": "stdout",
     "output_type": "stream",
     "text": [
      "55\n"
     ]
    }
   ],
   "source": [
    "age = 55\n",
    "greater = (age > 35)\n",
    "\n",
    "if greater:\n",
    "    print(age)"
   ]
  },
  {
   "cell_type": "code",
   "execution_count": 23,
   "metadata": {
    "collapsed": false
   },
   "outputs": [
    {
     "name": "stdout",
     "output_type": "stream",
     "text": [
      "55\n"
     ]
    }
   ],
   "source": [
    "if age > 35:\n",
    "    print(age)"
   ]
  },
  {
   "cell_type": "code",
   "execution_count": 24,
   "metadata": {
    "collapsed": false
   },
   "outputs": [
    {
     "name": "stdout",
     "output_type": "stream",
     "text": [
      "Ce nombre est énorme!\n"
     ]
    }
   ],
   "source": [
    "value = 1000\n",
    "\n",
    "if value > 100:\n",
    "    if value > 500:\n",
    "        print(\"Ce nombre est énorme!\")"
   ]
  },
  {
   "cell_type": "markdown",
   "metadata": {},
   "source": [
    "### Training 1"
   ]
  },
  {
   "cell_type": "code",
   "execution_count": 26,
   "metadata": {
    "collapsed": false
   },
   "outputs": [
    {
     "name": "stdout",
     "output_type": "stream",
     "text": [
      "1\n"
     ]
    }
   ],
   "source": [
    "result = 0\n",
    "\n",
    "if departments[5] == \"Ardèche\":\n",
    "    result = 1\n",
    "\n",
    "print(result)"
   ]
  },
  {
   "cell_type": "markdown",
   "metadata": {},
   "source": [
    "### Training 2"
   ]
  },
  {
   "cell_type": "code",
   "execution_count": 27,
   "metadata": {
    "collapsed": false
   },
   "outputs": [
    {
     "name": "stdout",
     "output_type": "stream",
     "text": [
      "True\n"
     ]
    }
   ],
   "source": [
    "both_conditions = False\n",
    "\n",
    "if int_dep_populations[0] > 600000:\n",
    "    if int_dep_populations[1] > 300000:\n",
    "        both_conditions = True\n",
    "        \n",
    "print(both_conditions)"
   ]
  },
  {
   "cell_type": "code",
   "execution_count": 28,
   "metadata": {
    "collapsed": false
   },
   "outputs": [
    {
     "name": "stdout",
     "output_type": "stream",
     "text": [
      "[643309, 554040, 353262, 166298, 1098785, 332051, 287775, 158076, 316098, 375065, 289901, 1131812, 2035475, 708407, 152400, 366787, 656046, 318590, 249684, 154100, 545001, 617413, 124948, 384655, 428651, 549155, 514104, 1286908, 616076, 445083, 935393, 752382, 197988, 1556663, 406706, 254845, 175499, 1344579, 234078, 186698, 145213, 246022, 806447, 236577, 384708, 775941, 1617484, 1127333, 1060051, 232802, 619004, 1271938, 270826, 541487, 414090, 774262, 1382766, 688098, 344121, 180016, 343198, 80423, 829156, 518322, 584297, 390252, 317716, 746687, 197763, 764338, 1065894, 221048, 2640622, 838646, 297109, 2243739, 1497668, 661248, 688451, 474842, 1833002, 574229, 583961, 440777, 1400477, 1284107, 1582139, 583641, 396341, 258696, 147647, 1377511, 1221946, 1055745, 566592, 681469, 444347, 386978, 352433, 1449398]\n"
     ]
    }
   ],
   "source": [
    "print(int_dep_populations)"
   ]
  },
  {
   "cell_type": "markdown",
   "metadata": {},
   "source": [
    "## Condition if et Boucle for"
   ]
  },
  {
   "cell_type": "code",
   "execution_count": 29,
   "metadata": {
    "collapsed": false
   },
   "outputs": [
    {
     "name": "stdout",
     "output_type": "stream",
     "text": [
      "Paris est présent dans la liste\n"
     ]
    }
   ],
   "source": [
    "found = False\n",
    "\n",
    "for dep in departments:\n",
    "    if dep == 'Paris':\n",
    "        found = True\n",
    "\n",
    "if found:\n",
    "    print('Paris est présent dans la liste')"
   ]
  },
  {
   "cell_type": "code",
   "execution_count": 30,
   "metadata": {
    "collapsed": false
   },
   "outputs": [
    {
     "name": "stdout",
     "output_type": "stream",
     "text": [
      "75\n"
     ]
    }
   ],
   "source": [
    "counter = 0\n",
    "index = 0\n",
    "\n",
    "for dep in departments:\n",
    "    if dep == \"Paris\":\n",
    "        index = counter\n",
    "    counter += 1\n",
    "    \n",
    "print(index)"
   ]
  },
  {
   "cell_type": "code",
   "execution_count": 31,
   "metadata": {
    "collapsed": false
   },
   "outputs": [
    {
     "name": "stdout",
     "output_type": "stream",
     "text": [
      "100\n"
     ]
    }
   ],
   "source": [
    "print(counter)"
   ]
  },
  {
   "cell_type": "markdown",
   "metadata": {},
   "source": [
    "### Training"
   ]
  },
  {
   "cell_type": "code",
   "execution_count": 32,
   "metadata": {
    "collapsed": false
   },
   "outputs": [
    {
     "name": "stdout",
     "output_type": "stream",
     "text": [
      "[1098785, 1131812, 2035475, 1286908, 1556663, 1344579, 1617484, 1127333, 1060051, 1271938, 1382766, 1065894, 2640622, 2243739, 1497668, 1833002, 1400477, 1284107, 1582139, 1377511, 1221946, 1055745, 1449398]\n"
     ]
    }
   ],
   "source": [
    "million_list = []\n",
    "\n",
    "for pop in int_dep_populations:\n",
    "    if pop > 1000000:\n",
    "        million_list.append(pop)\n",
    "        \n",
    "print(million_list)"
   ]
  },
  {
   "cell_type": "code",
   "execution_count": null,
   "metadata": {
    "collapsed": true
   },
   "outputs": [],
   "source": []
  }
 ],
 "metadata": {
  "anaconda-cloud": {},
  "kernelspec": {
   "display_name": "Python [conda root]",
   "language": "python",
   "name": "conda-root-py"
  },
  "language_info": {
   "codemirror_mode": {
    "name": "ipython",
    "version": 3
   },
   "file_extension": ".py",
   "mimetype": "text/x-python",
   "name": "python",
   "nbconvert_exporter": "python",
   "pygments_lexer": "ipython3",
   "version": "3.5.2"
  }
 },
 "nbformat": 4,
 "nbformat_minor": 1
}
