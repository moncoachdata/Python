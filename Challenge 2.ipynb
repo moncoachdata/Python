{
 "cells": [
  {
   "cell_type": "markdown",
   "metadata": {},
   "source": [
    "# Challenge 2"
   ]
  },
  {
   "cell_type": "markdown",
   "metadata": {},
   "source": [
    "## Introduction au dataset"
   ]
  },
  {
   "cell_type": "markdown",
   "metadata": {},
   "source": [
    "| name     | team | games| category | desc. | year | source |\n",
    "| :-------: | :----: | :---: | :---: | :---: | :---: | :---: |\n",
    "| F. Davis | WAS |  Indef. | Substance abuse, repeated offense | Marijuana-related   |  2014 | http://www.cbssports.com/nfl/eye-on-football/24448694/redskins-te-fred-davis-suspended-Indefiniteinitely-by-nfl |"
   ]
  },
  {
   "cell_type": "markdown",
   "metadata": {},
   "source": [
    "- Lire le dataset dans une liste de listes:\n",
    "> - Importer le module csv\n",
    "> - Lire \"nfl_suspensions_data.csv\" dans une liste que l'on nommera nfl_suspensions.\n",
    "- Supprimer l'en-tête et assigner la nouvelle liste à nfl_suspensions.\n",
    "- Compter le nombre de valeurs de la colonne year dans le dictionnaire years.\n",
    "- Afficher le résultat."
   ]
  },
  {
   "cell_type": "code",
   "execution_count": 3,
   "metadata": {
    "collapsed": true
   },
   "outputs": [],
   "source": [
    "import csv\n",
    "\n",
    "f = open(\"nfl_suspensions_data.csv\")\n",
    "nfl_suspensions = list(csv.reader(f))\n",
    "nfl_suspensions = nfl_suspensions[1:]"
   ]
  },
  {
   "cell_type": "code",
   "execution_count": 8,
   "metadata": {
    "collapsed": false
   },
   "outputs": [
    {
     "name": "stdout",
     "output_type": "stream",
     "text": [
      "{'2006': 11, '1963': 1, '1946': 1, '2014': 29, '1986': 1, '2011': 13, '1983': 1, '2003': 9, '2005': 8, '1990': 3, '2009': 10, '   ': 1, '2007': 17, '1998': 2, '2002': 7, '1989': 17, '1993': 1, '1997': 3, '2000': 1, '2012': 45, '2008': 10, '1999': 5, '2010': 21, '1994': 1, '2004': 6, '1995': 1, '2013': 40, '1947': 1, '2001': 3}\n"
     ]
    }
   ],
   "source": [
    "years_column = nfl_suspensions[5]\n",
    "years = {}\n",
    "\n",
    "for suspension in nfl_suspensions:\n",
    "    row_year = suspension[5]\n",
    "    if row_year in years:\n",
    "        years[row_year] += 1\n",
    "    else:\n",
    "        years[row_year] = 1\n",
    "        \n",
    "print(years)"
   ]
  },
  {
   "cell_type": "markdown",
   "metadata": {},
   "source": [
    "## Valeurs uniques"
   ]
  },
  {
   "cell_type": "markdown",
   "metadata": {},
   "source": [
    "- Récupérer les valeurs uniques de la colonne team en utilisant la compréhension de liste et assigner la liste à la variable unique_teams.\n",
    "- Récupérer les valeurs uniques de la colonne games en utilisant la compréhension de liste et assigner la liste à la variable unique_games.\n",
    "- Afficher unique_teams et unique_games."
   ]
  },
  {
   "cell_type": "code",
   "execution_count": 9,
   "metadata": {
    "collapsed": false
   },
   "outputs": [
    {
     "name": "stdout",
     "output_type": "stream",
     "text": [
      "{'JAX', 'MIN', 'PIT', 'STL', 'HOU', 'BUF', 'FREE', 'NO', 'DET', 'SEA', 'CHI', 'SF', 'KC', 'MIA', 'CLE', 'WAS', 'BAL', 'CIN', 'NE', 'GB', 'DAL', 'DEN', 'NYG', 'IND', 'SD', 'NYJ', 'PHI', 'TB', 'OAK', 'ATL', 'LA', 'CAR', 'TEN', 'ARI'}\n"
     ]
    }
   ],
   "source": [
    "teams = [row[1] for row in nfl_suspensions]\n",
    "unique_teams = set(teams)\n",
    "print(unique_teams)"
   ]
  },
  {
   "cell_type": "code",
   "execution_count": 10,
   "metadata": {
    "collapsed": false
   },
   "outputs": [
    {
     "name": "stdout",
     "output_type": "stream",
     "text": [
      "{'32', '6', '5', '4', '36', '14', '3', '20', '1', '10', '8', '16', '2', 'Indef.'}\n"
     ]
    }
   ],
   "source": [
    "games = [row[2] for row in nfl_suspensions]\n",
    "unique_games = set(games)\n",
    "print(unique_games)"
   ]
  },
  {
   "cell_type": "markdown",
   "metadata": {},
   "source": [
    "## Classe Suspension"
   ]
  },
  {
   "cell_type": "markdown",
   "metadata": {},
   "source": [
    "- Créer la classe Suspension.\n",
    "- Définir la méthode \\__init__ avec les critères suivants:\n",
    "> - un seul paramètre qui représente une ligne.\n",
    "> - création des valeurs name, team, games et year.\n",
    "- Créer une instance de la classe Suspension en utilisant la 3e ligne de la liste."
   ]
  },
  {
   "cell_type": "code",
   "execution_count": 11,
   "metadata": {
    "collapsed": true
   },
   "outputs": [],
   "source": [
    "class Suspension():\n",
    "    def __init__(self, row):\n",
    "        self.name = row[0]\n",
    "        self.team = row [1]\n",
    "        self.games = row[2]\n",
    "        self.year = row[5]\n",
    "\n",
    "third_suspension = Suspension(nfl_suspensions[2])"
   ]
  },
  {
   "cell_type": "code",
   "execution_count": 15,
   "metadata": {
    "collapsed": false
   },
   "outputs": [
    {
     "name": "stdout",
     "output_type": "stream",
     "text": [
      "IND\n"
     ]
    }
   ],
   "source": [
    "print(third_suspension.team)"
   ]
  },
  {
   "cell_type": "markdown",
   "metadata": {},
   "source": [
    "## Amélioration de la classe Suspension"
   ]
  },
  {
   "cell_type": "markdown",
   "metadata": {},
   "source": [
    "- Modifier notre classe pour convertir les années en 'entier' (en cas de valeur manquante assigner 0)\n",
    "- Créer une méthode get_year() qui retourne l'année.\n",
    "- Créer une instance de la classe d'un ligne qui présente aucune valeur pour l'année, assigner la à missing_year.\n",
    "- Utiliser la méthode get_year() dessus."
   ]
  },
  {
   "cell_type": "code",
   "execution_count": 16,
   "metadata": {
    "collapsed": true
   },
   "outputs": [],
   "source": [
    "class Suspension():\n",
    "    def __init__(self, row):\n",
    "        self.name = row[0]\n",
    "        self.team = row [1]\n",
    "        self.games = row[2]\n",
    "        try:\n",
    "            self.year = int(row[5])\n",
    "        except Exception:\n",
    "            self.year = 0\n",
    "            \n",
    "    def get_year(self):\n",
    "        return(self.year)"
   ]
  },
  {
   "cell_type": "code",
   "execution_count": 17,
   "metadata": {
    "collapsed": true
   },
   "outputs": [],
   "source": [
    "missing_year = Suspension(nfl_suspensions[22])"
   ]
  },
  {
   "cell_type": "code",
   "execution_count": 18,
   "metadata": {
    "collapsed": true
   },
   "outputs": [],
   "source": [
    "get_missing_year = missing_year.get_year()"
   ]
  },
  {
   "cell_type": "code",
   "execution_count": 19,
   "metadata": {
    "collapsed": false
   },
   "outputs": [
    {
     "name": "stdout",
     "output_type": "stream",
     "text": [
      "0\n"
     ]
    }
   ],
   "source": [
    "print(get_missing_year)"
   ]
  },
  {
   "cell_type": "code",
   "execution_count": null,
   "metadata": {
    "collapsed": true
   },
   "outputs": [],
   "source": []
  }
 ],
 "metadata": {
  "anaconda-cloud": {},
  "kernelspec": {
   "display_name": "Python [conda root]",
   "language": "python",
   "name": "conda-root-py"
  },
  "language_info": {
   "codemirror_mode": {
    "name": "ipython",
    "version": 3
   },
   "file_extension": ".py",
   "mimetype": "text/x-python",
   "name": "python",
   "nbconvert_exporter": "python",
   "pygments_lexer": "ipython3",
   "version": "3.5.2"
  }
 },
 "nbformat": 4,
 "nbformat_minor": 1
}
