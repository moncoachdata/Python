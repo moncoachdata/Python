{
 "cells": [
  {
   "cell_type": "markdown",
   "metadata": {},
   "source": [
    "# Challenge 1"
   ]
  },
  {
   "cell_type": "markdown",
   "metadata": {},
   "source": [
    "> **Mode d'emploi**\n",
    "> - Pratiquer la datascience\n",
    "> - Problème structuré et encadré\n",
    "> - Prenez le temps de chercher les solutions avant de regarder les corrections (n'hésitez pas à re-visionner les vidéos précédentes)\n",
    "> - Cas réel: dataset des prénoms unisexes aux Etats-Unis (téléchargeables via les ressources de cette vidéo)"
   ]
  },
  {
   "cell_type": "markdown",
   "metadata": {},
   "source": [
    "## Lire le fichier dans une liste"
   ]
  },
  {
   "cell_type": "markdown",
   "metadata": {},
   "source": [
    "> **Enoncé**\n",
    "> - Lire le fichier 'unisex_names.csv'\n",
    "> - Assigner cette chaine de caractères à la variable names.\n",
    "> - Convertir names en liste (méthode split())\n",
    "> - Assigner le résultat à la variable names_list.\n",
    "> - Afficher les 10 premiers éléments."
   ]
  },
  {
   "cell_type": "code",
   "execution_count": 1,
   "metadata": {
    "collapsed": false
   },
   "outputs": [
    {
     "name": "stdout",
     "output_type": "stream",
     "text": [
      "['Casey,176544.328149', 'Riley,154860.665173', 'Jessie,136381.830656', 'Jackie,132928.78874', 'Avery,121797.419516', 'Jaime,109870.18729', 'Peyton,94896.395216', 'Kerry,88963.92625', 'Jody,80400.519199', 'Kendall,79210.873961']\n"
     ]
    }
   ],
   "source": [
    "f = open('unisex_names.csv', 'r')\n",
    "names = f.read()\n",
    "names_list = names.split('\\n')\n",
    "print(names_list[0:10])"
   ]
  },
  {
   "cell_type": "markdown",
   "metadata": {},
   "source": [
    "## Convertir la liste en liste de listes"
   ]
  },
  {
   "cell_type": "markdown",
   "metadata": {},
   "source": [
    "> **Enoncé**\n",
    "> - Créer une liste vide names_data.\n",
    "> - Ecrire une boucle qui convertit notre liste en liste de listes."
   ]
  },
  {
   "cell_type": "code",
   "execution_count": 4,
   "metadata": {
    "collapsed": false
   },
   "outputs": [
    {
     "name": "stdout",
     "output_type": "stream",
     "text": [
      "[['Casey', '176544.328149'], ['Riley', '154860.665173'], ['Jessie', '136381.830656'], ['Jackie', '132928.78874'], ['Avery', '121797.419516']]\n"
     ]
    }
   ],
   "source": [
    "names_data = []\n",
    "\n",
    "for name in names_list:\n",
    "    comma_list = name.split(',')\n",
    "    names_data.append(comma_list)\n",
    "    \n",
    "print(names_data[0:5])"
   ]
  },
  {
   "cell_type": "markdown",
   "metadata": {},
   "source": [
    "## Convertir les valeurs numériques"
   ]
  },
  {
   "cell_type": "markdown",
   "metadata": {},
   "source": [
    "> **Enoncé**\n",
    "> - Créer une nouvelle liste numerical_list.\n",
    "> - Ecrire une boucle qui convertit les 'nombres' en nombres décimaux."
   ]
  },
  {
   "cell_type": "code",
   "execution_count": 5,
   "metadata": {
    "collapsed": false
   },
   "outputs": [
    {
     "name": "stdout",
     "output_type": "stream",
     "text": [
      "[['Casey', 176544.328149], ['Riley', 154860.665173], ['Jessie', 136381.830656], ['Jackie', 132928.78874], ['Avery', 121797.419516]]\n"
     ]
    }
   ],
   "source": [
    "numerical_list = []\n",
    "\n",
    "for line in names_data:\n",
    "    name = line[0]\n",
    "    count = float(line[1])\n",
    "    new_list = [name, count]\n",
    "    numerical_list.append(new_list)\n",
    "    \n",
    "print(numerical_list[0:5])"
   ]
  },
  {
   "cell_type": "markdown",
   "metadata": {},
   "source": [
    "## Filtrer la liste"
   ]
  },
  {
   "cell_type": "markdown",
   "metadata": {},
   "source": [
    "> **Enoncé**\n",
    "> - Créer une liste vide final_list.\n",
    "> - Ecrire une boucle qui conserve seulement les prénoms partagés par au moins 1000 personnes.\n",
    "> - Afficher les 10 premiers éléments de final_list."
   ]
  },
  {
   "cell_type": "code",
   "execution_count": 6,
   "metadata": {
    "collapsed": false
   },
   "outputs": [
    {
     "name": "stdout",
     "output_type": "stream",
     "text": [
      "['Casey', 'Riley', 'Jessie', 'Jackie', 'Avery', 'Jaime', 'Peyton', 'Kerry', 'Jody', 'Kendall']\n"
     ]
    }
   ],
   "source": [
    "final_list = []\n",
    "\n",
    "for line in numerical_list:\n",
    "    name = line[0]\n",
    "    population = line[1]\n",
    "    if population >= 1000:\n",
    "        final_list.append(name)\n",
    "        \n",
    "print(final_list[0:10])"
   ]
  },
  {
   "cell_type": "code",
   "execution_count": null,
   "metadata": {
    "collapsed": true
   },
   "outputs": [],
   "source": []
  }
 ],
 "metadata": {
  "anaconda-cloud": {},
  "kernelspec": {
   "display_name": "Python [conda root]",
   "language": "python",
   "name": "conda-root-py"
  },
  "language_info": {
   "codemirror_mode": {
    "name": "ipython",
    "version": 3
   },
   "file_extension": ".py",
   "mimetype": "text/x-python",
   "name": "python",
   "nbconvert_exporter": "python",
   "pygments_lexer": "ipython3",
   "version": "3.5.2"
  }
 },
 "nbformat": 4,
 "nbformat_minor": 1
}
