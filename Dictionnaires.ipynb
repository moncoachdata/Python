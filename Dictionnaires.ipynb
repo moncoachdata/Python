{
 "cells": [
  {
   "cell_type": "markdown",
   "metadata": {},
   "source": [
    "# Les dictionnaires"
   ]
  },
  {
   "cell_type": "markdown",
   "metadata": {},
   "source": [
    "## Qu'est ce qu'un dictionnaire ?"
   ]
  },
  {
   "cell_type": "code",
   "execution_count": 3,
   "metadata": {
    "collapsed": false
   },
   "outputs": [
    {
     "name": "stdout",
     "output_type": "stream",
     "text": [
      "17\n"
     ]
    }
   ],
   "source": [
    "students = [\"Thomas\", \"Matt\", \"Sarah\", \"Nina\"]\n",
    "scores = [16, 15, 17, 14]\n",
    "\n",
    "index = [0, 1, 2, 3]\n",
    "name = \"Sarah\"\n",
    "score = 0\n",
    "\n",
    "for i in index:\n",
    "    if students[i] == name:\n",
    "        score = scores[i]\n",
    "        \n",
    "print(score)"
   ]
  },
  {
   "cell_type": "code",
   "execution_count": 4,
   "metadata": {
    "collapsed": true
   },
   "outputs": [],
   "source": [
    "scores = {} # dictionnaire vide"
   ]
  },
  {
   "cell_type": "code",
   "execution_count": 5,
   "metadata": {
    "collapsed": true
   },
   "outputs": [],
   "source": [
    "scores[\"Nina\"] = 14"
   ]
  },
  {
   "cell_type": "code",
   "execution_count": 6,
   "metadata": {
    "collapsed": false
   },
   "outputs": [
    {
     "name": "stdout",
     "output_type": "stream",
     "text": [
      "{'Nina': 14}\n"
     ]
    }
   ],
   "source": [
    "print(scores)"
   ]
  },
  {
   "cell_type": "code",
   "execution_count": 7,
   "metadata": {
    "collapsed": true
   },
   "outputs": [],
   "source": [
    "scores['Thomas'] = 16\n",
    "scores['Sarah'] = 17\n",
    "scores['Matt'] = 15"
   ]
  },
  {
   "cell_type": "code",
   "execution_count": 8,
   "metadata": {
    "collapsed": false
   },
   "outputs": [
    {
     "name": "stdout",
     "output_type": "stream",
     "text": [
      "{'Nina': 14, 'Thomas': 16, 'Sarah': 17, 'Matt': 15}\n"
     ]
    }
   ],
   "source": [
    "print(scores)"
   ]
  },
  {
   "cell_type": "code",
   "execution_count": 10,
   "metadata": {
    "collapsed": false
   },
   "outputs": [],
   "source": [
    "animals = {\"poules\": 120, \"chèvres\": 46, \"chevaux\": 23, \"vaches\": 55}"
   ]
  },
  {
   "cell_type": "code",
   "execution_count": 11,
   "metadata": {
    "collapsed": false
   },
   "outputs": [
    {
     "data": {
      "text/plain": [
       "{'chevaux': 23, 'chèvres': 46, 'poules': 120, 'vaches': 55}"
      ]
     },
     "execution_count": 11,
     "metadata": {},
     "output_type": "execute_result"
    }
   ],
   "source": [
    "animals"
   ]
  },
  {
   "cell_type": "code",
   "execution_count": 12,
   "metadata": {
    "collapsed": true
   },
   "outputs": [],
   "source": [
    "animals['poules'] = 110"
   ]
  },
  {
   "cell_type": "code",
   "execution_count": 13,
   "metadata": {
    "collapsed": false
   },
   "outputs": [
    {
     "data": {
      "text/plain": [
       "{'chevaux': 23, 'chèvres': 46, 'poules': 110, 'vaches': 55}"
      ]
     },
     "execution_count": 13,
     "metadata": {},
     "output_type": "execute_result"
    }
   ],
   "source": [
    "animals"
   ]
  },
  {
   "cell_type": "code",
   "execution_count": 14,
   "metadata": {
    "collapsed": true
   },
   "outputs": [],
   "source": [
    "animals['chevaux'] = animals['chevaux'] + 5"
   ]
  },
  {
   "cell_type": "code",
   "execution_count": 15,
   "metadata": {
    "collapsed": false
   },
   "outputs": [
    {
     "data": {
      "text/plain": [
       "{'chevaux': 28, 'chèvres': 46, 'poules': 110, 'vaches': 55}"
      ]
     },
     "execution_count": 15,
     "metadata": {},
     "output_type": "execute_result"
    }
   ],
   "source": [
    "animals"
   ]
  },
  {
   "cell_type": "markdown",
   "metadata": {},
   "source": [
    "### Training"
   ]
  },
  {
   "cell_type": "code",
   "execution_count": 16,
   "metadata": {
    "collapsed": false
   },
   "outputs": [
    {
     "data": {
      "text/plain": [
       "{'Matt': 15, 'Nina': 14, 'Sarah': 17, 'Thomas': 16}"
      ]
     },
     "execution_count": 16,
     "metadata": {},
     "output_type": "execute_result"
    }
   ],
   "source": [
    "scores"
   ]
  },
  {
   "cell_type": "code",
   "execution_count": 17,
   "metadata": {
    "collapsed": true
   },
   "outputs": [],
   "source": [
    "scores[\"Marie\"] = 15"
   ]
  },
  {
   "cell_type": "code",
   "execution_count": 18,
   "metadata": {
    "collapsed": false
   },
   "outputs": [
    {
     "data": {
      "text/plain": [
       "{'Marie': 15, 'Matt': 15, 'Nina': 14, 'Sarah': 17, 'Thomas': 16}"
      ]
     },
     "execution_count": 18,
     "metadata": {},
     "output_type": "execute_result"
    }
   ],
   "source": [
    "scores"
   ]
  },
  {
   "cell_type": "code",
   "execution_count": 20,
   "metadata": {
    "collapsed": false
   },
   "outputs": [],
   "source": [
    "scores['Nina' ] = scores['Nina'] + 2"
   ]
  },
  {
   "cell_type": "code",
   "execution_count": 21,
   "metadata": {
    "collapsed": false
   },
   "outputs": [
    {
     "data": {
      "text/plain": [
       "{'Marie': 15, 'Matt': 15, 'Nina': 16, 'Sarah': 17, 'Thomas': 16}"
      ]
     },
     "execution_count": 21,
     "metadata": {},
     "output_type": "execute_result"
    }
   ],
   "source": [
    "scores"
   ]
  },
  {
   "cell_type": "code",
   "execution_count": 22,
   "metadata": {
    "collapsed": true
   },
   "outputs": [],
   "source": [
    "scores['Thomas'] = 10"
   ]
  },
  {
   "cell_type": "code",
   "execution_count": 23,
   "metadata": {
    "collapsed": false
   },
   "outputs": [
    {
     "data": {
      "text/plain": [
       "{'Marie': 15, 'Matt': 15, 'Nina': 16, 'Sarah': 17, 'Thomas': 10}"
      ]
     },
     "execution_count": 23,
     "metadata": {},
     "output_type": "execute_result"
    }
   ],
   "source": [
    "scores"
   ]
  },
  {
   "cell_type": "code",
   "execution_count": 24,
   "metadata": {
    "collapsed": false
   },
   "outputs": [
    {
     "name": "stdout",
     "output_type": "stream",
     "text": [
      "True\n",
      "False\n"
     ]
    }
   ],
   "source": [
    "matt_found = \"Matt\" in scores\n",
    "tom_found = \"Tom\" in scores\n",
    "\n",
    "print(matt_found)\n",
    "print(tom_found)"
   ]
  },
  {
   "cell_type": "markdown",
   "metadata": {},
   "source": [
    "## La condition if / else"
   ]
  },
  {
   "cell_type": "code",
   "execution_count": 35,
   "metadata": {
    "collapsed": false
   },
   "outputs": [
    {
     "name": "stdout",
     "output_type": "stream",
     "text": [
      "Il fait chaud !\n"
     ]
    }
   ],
   "source": [
    "temperature = 50\n",
    "\n",
    "if temperature > 40:\n",
    "    print(\"Il fait chaud !\")\n",
    "if temperature <= 40:\n",
    "    print(\"Il fait froid !\")"
   ]
  },
  {
   "cell_type": "code",
   "execution_count": 37,
   "metadata": {
    "collapsed": false
   },
   "outputs": [
    {
     "name": "stdout",
     "output_type": "stream",
     "text": [
      "Il fait froid !\n"
     ]
    }
   ],
   "source": [
    "temperature = 10\n",
    "if temperature > 40:\n",
    "    print(\"Il fait chaud !\")\n",
    "else:\n",
    "    print(\"Il fait froid !\")"
   ]
  },
  {
   "cell_type": "code",
   "execution_count": 38,
   "metadata": {
    "collapsed": true
   },
   "outputs": [],
   "source": [
    "temperatures = [50, 20, 10, 35]\n",
    "\n",
    "high_temperatures = []\n",
    "low_temperatures = []\n",
    "\n",
    "for temperature in temperatures:\n",
    "    if temperature > 40:\n",
    "        high_temperatures.append(temperature)\n",
    "    else:\n",
    "        low_temperatures.append(temperature)"
   ]
  },
  {
   "cell_type": "code",
   "execution_count": 39,
   "metadata": {
    "collapsed": false
   },
   "outputs": [
    {
     "name": "stdout",
     "output_type": "stream",
     "text": [
      "[50]\n"
     ]
    }
   ],
   "source": [
    "print(high_temperatures)"
   ]
  },
  {
   "cell_type": "code",
   "execution_count": 40,
   "metadata": {
    "collapsed": false
   },
   "outputs": [
    {
     "name": "stdout",
     "output_type": "stream",
     "text": [
      "[20, 10, 35]\n"
     ]
    }
   ],
   "source": [
    "print(low_temperatures)"
   ]
  },
  {
   "cell_type": "markdown",
   "metadata": {},
   "source": [
    "### Training"
   ]
  },
  {
   "cell_type": "code",
   "execution_count": 42,
   "metadata": {
    "collapsed": false
   },
   "outputs": [
    {
     "name": "stdout",
     "output_type": "stream",
     "text": [
      "['Mercure', 'Jupiter', 'Saturne', 'Neptune', 'Uranus']\n",
      "['Vénus', 'Terre', 'Mars']\n"
     ]
    }
   ],
   "source": [
    "planet_names = [\"Mercure\", \"Vénus\", \"Terre\", \"Mars\", \"Jupiter\", \"Saturne\", \"Neptune\", \"Uranus\"]\n",
    "\n",
    "short_names = []\n",
    "long_names = []\n",
    "\n",
    "for planet in planet_names:\n",
    "    if len(planet) > 5:\n",
    "        long_names.append(planet)\n",
    "    else:\n",
    "        short_names.append(planet)\n",
    "        \n",
    "print(long_names)\n",
    "print(short_names)"
   ]
  },
  {
   "cell_type": "markdown",
   "metadata": {},
   "source": [
    "## Compter les éléments d'une liste et présenter les résultats dans un dictionnaire"
   ]
  },
  {
   "cell_type": "code",
   "execution_count": 47,
   "metadata": {
    "collapsed": false
   },
   "outputs": [
    {
     "name": "stdout",
     "output_type": "stream",
     "text": [
      "{'Banane': 3, 'Citron': 1, 'Pomme': 4}\n"
     ]
    }
   ],
   "source": [
    "fruits = [\"Citron\", \"Banane\", \"Pomme\", \"Pomme\", \"Pomme\", \"Banane\", \"Banane\", \"Pomme\"]\n",
    "\n",
    "fruits_counts = {}\n",
    "\n",
    "for item in fruits:\n",
    "    if item in fruits_counts:\n",
    "        fruits_counts[item] = fruits_counts[item] + 1\n",
    "    else:\n",
    "        fruits_counts[item] = 1\n",
    "        \n",
    "print(fruits_counts)"
   ]
  },
  {
   "cell_type": "markdown",
   "metadata": {},
   "source": [
    "### Training"
   ]
  },
  {
   "cell_type": "code",
   "execution_count": 48,
   "metadata": {
    "collapsed": true
   },
   "outputs": [],
   "source": [
    "weather_data = []\n",
    "\n",
    "f = open(\"madrid_weather_2016.csv\", \"r\")\n",
    "data = f.read()\n",
    "rows = data.split('\\n')\n",
    "for row in rows:\n",
    "    split_row = row.split(',')\n",
    "    weather_data.append(split_row)\n",
    "    \n",
    "new_weather = weather_data[1:366]\n",
    "\n",
    "weather = []\n",
    "\n",
    "for row in new_weather:\n",
    "    weather.append(row[1])"
   ]
  },
  {
   "cell_type": "code",
   "execution_count": 49,
   "metadata": {
    "collapsed": false
   },
   "outputs": [
    {
     "name": "stdout",
     "output_type": "stream",
     "text": [
      "{'Orage': 1, 'Nuage-Pluie': 4, 'Nuage': 125, 'Pluie': 25, 'Soleil': 210}\n"
     ]
    }
   ],
   "source": [
    "weather_counts = {}\n",
    "\n",
    "for item in weather:\n",
    "    if item in weather_counts:\n",
    "        weather_counts[item] += 1\n",
    "    else:\n",
    "        weather_counts[item] = 1\n",
    "        \n",
    "print(weather_counts)"
   ]
  },
  {
   "cell_type": "code",
   "execution_count": null,
   "metadata": {
    "collapsed": true
   },
   "outputs": [],
   "source": []
  }
 ],
 "metadata": {
  "anaconda-cloud": {},
  "kernelspec": {
   "display_name": "Python [conda root]",
   "language": "python",
   "name": "conda-root-py"
  },
  "language_info": {
   "codemirror_mode": {
    "name": "ipython",
    "version": 3
   },
   "file_extension": ".py",
   "mimetype": "text/x-python",
   "name": "python",
   "nbconvert_exporter": "python",
   "pygments_lexer": "ipython3",
   "version": "3.5.2"
  }
 },
 "nbformat": 4,
 "nbformat_minor": 1
}
