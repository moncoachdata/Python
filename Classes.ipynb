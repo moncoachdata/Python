{
 "cells": [
  {
   "cell_type": "markdown",
   "metadata": {},
   "source": [
    "# Objets et classes"
   ]
  },
  {
   "cell_type": "code",
   "execution_count": 1,
   "metadata": {
    "collapsed": true
   },
   "outputs": [],
   "source": [
    "class Car():\n",
    "    def __init__(self):\n",
    "        self.color = \"black\"\n",
    "        self.mark = \"Audi\"\n",
    "        self.model = \"A4\""
   ]
  },
  {
   "cell_type": "code",
   "execution_count": 2,
   "metadata": {
    "collapsed": true
   },
   "outputs": [],
   "source": [
    "audi_car = Car()"
   ]
  },
  {
   "cell_type": "code",
   "execution_count": 3,
   "metadata": {
    "collapsed": true
   },
   "outputs": [],
   "source": [
    "class Team():\n",
    "    def __init__(self):\n",
    "        self.name = \"Manchester\""
   ]
  },
  {
   "cell_type": "code",
   "execution_count": 4,
   "metadata": {
    "collapsed": true
   },
   "outputs": [],
   "source": [
    "man = Team()"
   ]
  },
  {
   "cell_type": "code",
   "execution_count": 5,
   "metadata": {
    "collapsed": false
   },
   "outputs": [
    {
     "name": "stdout",
     "output_type": "stream",
     "text": [
      "Manchester\n"
     ]
    }
   ],
   "source": [
    "print(man.name)"
   ]
  },
  {
   "cell_type": "markdown",
   "metadata": {},
   "source": [
    "## La méthode d'instance \\__init__"
   ]
  },
  {
   "cell_type": "code",
   "execution_count": 19,
   "metadata": {
    "collapsed": true
   },
   "outputs": [],
   "source": [
    "class Team():\n",
    "    def __init__(self, name):\n",
    "        self.name = name"
   ]
  },
  {
   "cell_type": "code",
   "execution_count": 20,
   "metadata": {
    "collapsed": true
   },
   "outputs": [],
   "source": [
    "madrid = Team(\"Real Madrid\")"
   ]
  },
  {
   "cell_type": "code",
   "execution_count": 22,
   "metadata": {
    "collapsed": false
   },
   "outputs": [
    {
     "name": "stdout",
     "output_type": "stream",
     "text": [
      "Real Madrid\n"
     ]
    }
   ],
   "source": [
    "print(madrid.name)"
   ]
  },
  {
   "cell_type": "markdown",
   "metadata": {},
   "source": [
    "## D'autres méthodes d'instance"
   ]
  },
  {
   "cell_type": "code",
   "execution_count": 45,
   "metadata": {
    "collapsed": true
   },
   "outputs": [],
   "source": [
    "class Team():\n",
    "    def __init__(self, name):\n",
    "        self.name = name\n",
    "        \n",
    "    def print_name(self):\n",
    "        print(self.name)"
   ]
  },
  {
   "cell_type": "code",
   "execution_count": 46,
   "metadata": {
    "collapsed": true
   },
   "outputs": [],
   "source": [
    "madrid = Team(\"Real Madrid\")"
   ]
  },
  {
   "cell_type": "code",
   "execution_count": 47,
   "metadata": {
    "collapsed": false
   },
   "outputs": [
    {
     "name": "stdout",
     "output_type": "stream",
     "text": [
      "Real Madrid\n"
     ]
    }
   ],
   "source": [
    "madrid.print_name()"
   ]
  },
  {
   "cell_type": "code",
   "execution_count": 48,
   "metadata": {
    "collapsed": true
   },
   "outputs": [],
   "source": [
    "import csv\n",
    "\n",
    "f = open('nfl.csv')\n",
    "nfl = list(csv.reader(f))"
   ]
  },
  {
   "cell_type": "code",
   "execution_count": 50,
   "metadata": {
    "collapsed": false
   },
   "outputs": [],
   "source": [
    "class Team():\n",
    "    def __init__(self, name):\n",
    "        self.name = name\n",
    "        \n",
    "    def print_name(self):\n",
    "        print(self.name)\n",
    "        \n",
    "    def count_total_wins(self):\n",
    "        count = 0\n",
    "        for row in nfl:\n",
    "            if row[2] == self.name:\n",
    "                count += 1\n",
    "        return(count)"
   ]
  },
  {
   "cell_type": "code",
   "execution_count": 51,
   "metadata": {
    "collapsed": true
   },
   "outputs": [],
   "source": [
    "broncos = Team(\"Denver Broncos\")"
   ]
  },
  {
   "cell_type": "code",
   "execution_count": 52,
   "metadata": {
    "collapsed": true
   },
   "outputs": [],
   "source": [
    "broncos_wins = broncos.count_total_wins()"
   ]
  },
  {
   "cell_type": "code",
   "execution_count": 53,
   "metadata": {
    "collapsed": false
   },
   "outputs": [
    {
     "name": "stdout",
     "output_type": "stream",
     "text": [
      "46\n"
     ]
    }
   ],
   "source": [
    "print(broncos_wins)"
   ]
  },
  {
   "cell_type": "markdown",
   "metadata": {},
   "source": [
    "## Améliorer la méthode \\__init__ de la classe Team()"
   ]
  },
  {
   "cell_type": "markdown",
   "metadata": {},
   "source": [
    "### Training"
   ]
  },
  {
   "cell_type": "code",
   "execution_count": 55,
   "metadata": {
    "collapsed": false
   },
   "outputs": [
    {
     "name": "stdout",
     "output_type": "stream",
     "text": [
      "51\n"
     ]
    }
   ],
   "source": [
    "import csv\n",
    "\n",
    "class Team():\n",
    "    def __init__(self, name):\n",
    "        self.name = name\n",
    "        f = open(\"nfl.csv\")\n",
    "        csvreader = csv.reader(f)\n",
    "        self.nfl = list(csvreader)\n",
    "        \n",
    "    def count_total_wins(self):\n",
    "        count = 0\n",
    "        for row in self.nfl:\n",
    "            if row[2] == self.name:\n",
    "                count += 1\n",
    "        return(count)\n",
    "    \n",
    "sf = Team(\"San Francisco 49ers\")\n",
    "sf_wins = sf.count_total_wins()\n",
    "print(sf_wins)"
   ]
  },
  {
   "cell_type": "markdown",
   "metadata": {},
   "source": [
    "## Nombre de victoires sur une année"
   ]
  },
  {
   "cell_type": "markdown",
   "metadata": {},
   "source": [
    "### Training"
   ]
  },
  {
   "cell_type": "code",
   "execution_count": 62,
   "metadata": {
    "collapsed": false
   },
   "outputs": [
    {
     "name": "stdout",
     "output_type": "stream",
     "text": [
      "12\n"
     ]
    }
   ],
   "source": [
    "class Team():\n",
    "    def __init__(self, name):\n",
    "        self.name = name\n",
    "        f = open(\"nfl.csv\")\n",
    "        csvreader = csv.reader(f)\n",
    "        self.nfl = list(csvreader)\n",
    "        \n",
    "    def count_total_wins(self):\n",
    "        count = 0\n",
    "        for row in self.nfl:\n",
    "            if row[2] == self.name:\n",
    "                count += 1\n",
    "        return(count)\n",
    "    \n",
    "    def count_wins_in_year(self, year):\n",
    "        count = 0\n",
    "        for row in self.nfl:\n",
    "            if row[2] == self.name and row[0] == year:\n",
    "                count += 1\n",
    "        return(count)\n",
    "    \n",
    "niners = Team(\"San Francisco 49ers\")\n",
    "niners_wins_2013 = niners.count_wins_in_year(\"2013\")\n",
    "print(niners_wins_2013)"
   ]
  },
  {
   "cell_type": "code",
   "execution_count": null,
   "metadata": {
    "collapsed": true
   },
   "outputs": [],
   "source": []
  }
 ],
 "metadata": {
  "anaconda-cloud": {},
  "kernelspec": {
   "display_name": "Python [conda root]",
   "language": "python",
   "name": "conda-root-py"
  },
  "language_info": {
   "codemirror_mode": {
    "name": "ipython",
    "version": 3
   },
   "file_extension": ".py",
   "mimetype": "text/x-python",
   "name": "python",
   "nbconvert_exporter": "python",
   "pygments_lexer": "ipython3",
   "version": "3.5.2"
  }
 },
 "nbformat": 4,
 "nbformat_minor": 1
}
