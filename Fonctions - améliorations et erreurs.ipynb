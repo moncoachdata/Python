{
 "cells": [
  {
   "cell_type": "markdown",
   "metadata": {},
   "source": [
    "# Fonctions: améliorations et erreurs"
   ]
  },
  {
   "cell_type": "markdown",
   "metadata": {},
   "source": [
    "## Fonctions avec plusieurs chemins d'accès"
   ]
  },
  {
   "cell_type": "code",
   "execution_count": 1,
   "metadata": {
    "collapsed": false
   },
   "outputs": [
    {
     "data": {
      "text/plain": [
       "'jeune'"
      ]
     },
     "execution_count": 1,
     "metadata": {},
     "output_type": "execute_result"
    }
   ],
   "source": [
    "def ton_age(age):\n",
    "    if age >= 60:\n",
    "        return(\"âgé\")\n",
    "    else:\n",
    "        return(\"jeune\")\n",
    "    \n",
    "ton_age(50)"
   ]
  },
  {
   "cell_type": "code",
   "execution_count": 2,
   "metadata": {
    "collapsed": false
   },
   "outputs": [
    {
     "data": {
      "text/plain": [
       "'âgé'"
      ]
     },
     "execution_count": 2,
     "metadata": {},
     "output_type": "execute_result"
    }
   ],
   "source": [
    "ton_age(70)"
   ]
  },
  {
   "cell_type": "code",
   "execution_count": 3,
   "metadata": {
    "collapsed": false
   },
   "outputs": [
    {
     "data": {
      "text/plain": [
       "'âgé'"
      ]
     },
     "execution_count": 3,
     "metadata": {},
     "output_type": "execute_result"
    }
   ],
   "source": [
    "def est_age(age):\n",
    "    if age >= 60:\n",
    "        return(\"âgé\")\n",
    "    \n",
    "def est_jeune(age):\n",
    "    if age < 60:\n",
    "        return(\"jeune\")\n",
    "    \n",
    "est_age(70)"
   ]
  },
  {
   "cell_type": "code",
   "execution_count": 4,
   "metadata": {
    "collapsed": true
   },
   "outputs": [],
   "source": [
    "est_age(50)"
   ]
  },
  {
   "cell_type": "code",
   "execution_count": 5,
   "metadata": {
    "collapsed": false
   },
   "outputs": [
    {
     "data": {
      "text/plain": [
       "'jeune'"
      ]
     },
     "execution_count": 5,
     "metadata": {},
     "output_type": "execute_result"
    }
   ],
   "source": [
    "est_jeune(50)"
   ]
  },
  {
   "cell_type": "markdown",
   "metadata": {},
   "source": [
    "## Les arguments"
   ]
  },
  {
   "cell_type": "code",
   "execution_count": 25,
   "metadata": {
    "collapsed": true
   },
   "outputs": [],
   "source": [
    "vocabulary = open(\"dictionnaire.txt\", \"r\", encoding=\"utf-8\").read()\n",
    "text_string = open(\"texte.txt\", \"r\", encoding=\"utf-8\").read()\n",
    "\n",
    "def clean_text(text_string, special_characters, replacement_string):\n",
    "    cleaned_string = text_string\n",
    "    \n",
    "    for string in special_characters:\n",
    "        cleaned_string = cleaned_string.replace(string, replacement_string)\n",
    "    cleaned_string = cleaned_string.lower()\n",
    "    return(cleaned_string)\n",
    "\n",
    "clean_characters =  [\".\", \",\", \"'\", \"\\n\"]\n",
    "replacement = \"\""
   ]
  },
  {
   "cell_type": "code",
   "execution_count": 29,
   "metadata": {
    "collapsed": true
   },
   "outputs": [],
   "source": [
    "def tokenize(string, special_characters, replacement_string, clean = False):\n",
    "    cleaned_text = string\n",
    "    if clean:\n",
    "        cleaned_text = clean_text(string, special_characters, replacement_string)\n",
    "    text_tokens = cleaned_text.split(\" \")\n",
    "    return(text_tokens)"
   ]
  },
  {
   "cell_type": "code",
   "execution_count": 35,
   "metadata": {
    "collapsed": false
   },
   "outputs": [
    {
     "name": "stdout",
     "output_type": "stream",
     "text": [
      "['en', 'termes', 'généraux', 'la', 'scence', 'des', 'données', 'est', 'lextraction', 'de']\n"
     ]
    }
   ],
   "source": [
    "tokenized_text = tokenize(clean = True, replacement_string = replacement, special_characters = clean_characters, string = text_string)\n",
    "print(tokenized_text[0:10])"
   ]
  },
  {
   "cell_type": "code",
   "execution_count": 10,
   "metadata": {
    "collapsed": true
   },
   "outputs": [],
   "source": [
    "tokenized_vocabulary = tokenize(vocabulary, clean_characters, replacement)"
   ]
  },
  {
   "cell_type": "markdown",
   "metadata": {},
   "source": [
    "## Pratique: amélioration de notre correcteur orthographique"
   ]
  },
  {
   "cell_type": "markdown",
   "metadata": {},
   "source": [
    "- Créer une fonction spell_check() qui contient les arguments:\n",
    "> - vocabulary_file - dictionnaire\n",
    "> - text_file - fichier dont on souhaite vérifier l'orthographe\n",
    "> - special_characters avec comme valeur par défaut [\".\", \",\", \"'\", \"\\n\"]\n",
    "> - replacement_string avec comme valeur par défaut \"\"\n",
    "- Dans le corps de la fonction:\n",
    "> - créer une liste vide misspelled_words\n",
    "> - ouvrir et lire vocabulary_file et text_file\n",
    "> - appliquer la fonction tokenize() aux 2 textes\n",
    "> - ajouter dans la liste misspelled_words les mots mal orthographiés et différents de ''\n",
    "- Appliquer la fonction spell_check() et assigner le résultat à la variable final_misspelled_words.\n",
    "- Afficher le résultat."
   ]
  },
  {
   "cell_type": "code",
   "execution_count": 37,
   "metadata": {
    "collapsed": false
   },
   "outputs": [
    {
     "name": "stdout",
     "output_type": "stream",
     "text": [
      "['scence', 'conaissance', 'téorie', 'statistiqe', 'stokage', 'dicipline', 'come']\n"
     ]
    }
   ],
   "source": [
    "def spell_check(vocabulary_file, text_file, special_characters = [\",\", \".\", \"'\", \"\\n\"], replacement_string = \"\"):\n",
    "    misspelled_words = []\n",
    "    \n",
    "    vocabulary = open(vocabulary_file, 'r', encoding=\"utf-8\").read()\n",
    "    text = open(text_file, 'r', encoding=\"utf-8\").read()\n",
    "    \n",
    "    tokenized_vocabulary = tokenize(vocabulary, special_characters, replacement_string)\n",
    "    tokenized_text = tokenize(text, special_characters, replacement_string, True)\n",
    "    \n",
    "    for token in tokenized_text:\n",
    "        if token not in tokenized_vocabulary and token != '':\n",
    "            misspelled_words.append(token)\n",
    "    return(misspelled_words)\n",
    "\n",
    "final_misspelled_words = spell_check(vocabulary_file=\"dictionnaire.txt\", text_file=\"texte.txt\")\n",
    "print(final_misspelled_words)"
   ]
  },
  {
   "cell_type": "markdown",
   "metadata": {},
   "source": [
    "## Types d'erreurs"
   ]
  },
  {
   "cell_type": "markdown",
   "metadata": {},
   "source": [
    "### Syntax errors / erreurs de syntaxe"
   ]
  },
  {
   "cell_type": "code",
   "execution_count": 38,
   "metadata": {
    "collapsed": false
   },
   "outputs": [
    {
     "ename": "SyntaxError",
     "evalue": "EOL while scanning string literal (<ipython-input-38-fef8cd528df2>, line 1)",
     "output_type": "error",
     "traceback": [
      "\u001b[0;36m  File \u001b[0;32m\"<ipython-input-38-fef8cd528df2>\"\u001b[0;36m, line \u001b[0;32m1\u001b[0m\n\u001b[0;31m    answer = 42\"\u001b[0m\n\u001b[0m                ^\u001b[0m\n\u001b[0;31mSyntaxError\u001b[0m\u001b[0;31m:\u001b[0m EOL while scanning string literal\n"
     ]
    }
   ],
   "source": [
    "answer = 42\""
   ]
  },
  {
   "cell_type": "code",
   "execution_count": 39,
   "metadata": {
    "collapsed": false
   },
   "outputs": [
    {
     "ename": "SyntaxError",
     "evalue": "invalid syntax (<ipython-input-39-56e036759fe7>, line 1)",
     "output_type": "error",
     "traceback": [
      "\u001b[0;36m  File \u001b[0;32m\"<ipython-input-39-56e036759fe7>\"\u001b[0;36m, line \u001b[0;32m1\u001b[0m\n\u001b[0;31m    de nine():\u001b[0m\n\u001b[0m          ^\u001b[0m\n\u001b[0;31mSyntaxError\u001b[0m\u001b[0;31m:\u001b[0m invalid syntax\n"
     ]
    }
   ],
   "source": [
    "de nine():\n",
    "    print(\"9\")"
   ]
  },
  {
   "cell_type": "code",
   "execution_count": 40,
   "metadata": {
    "collapsed": false
   },
   "outputs": [
    {
     "ename": "IndentationError",
     "evalue": "unexpected indent (<ipython-input-40-ca360c2546a5>, line 3)",
     "output_type": "error",
     "traceback": [
      "\u001b[0;36m  File \u001b[0;32m\"<ipython-input-40-ca360c2546a5>\"\u001b[0;36m, line \u001b[0;32m3\u001b[0m\n\u001b[0;31m    print(\"t'es sur?\")\u001b[0m\n\u001b[0m    ^\u001b[0m\n\u001b[0;31mIndentationError\u001b[0m\u001b[0;31m:\u001b[0m unexpected indent\n"
     ]
    }
   ],
   "source": [
    "def nine():\n",
    "    print(\"9\")\n",
    "        print(\"t'es sur?\")"
   ]
  },
  {
   "cell_type": "markdown",
   "metadata": {},
   "source": [
    "### Runtime Errors"
   ]
  },
  {
   "cell_type": "code",
   "execution_count": 41,
   "metadata": {
    "collapsed": false
   },
   "outputs": [
    {
     "ename": "TypeError",
     "evalue": "unsupported operand type(s) for +: 'int' and 'str'",
     "output_type": "error",
     "traceback": [
      "\u001b[0;31m---------------------------------------------------------------------------\u001b[0m",
      "\u001b[0;31mTypeError\u001b[0m                                 Traceback (most recent call last)",
      "\u001b[0;32m<ipython-input-41-f79a125652b6>\u001b[0m in \u001b[0;36m<module>\u001b[0;34m()\u001b[0m\n\u001b[1;32m      2\u001b[0m \u001b[1;33m\u001b[0m\u001b[0m\n\u001b[1;32m      3\u001b[0m \u001b[0mnine\u001b[0m \u001b[1;33m=\u001b[0m \u001b[1;36m9\u001b[0m\u001b[1;33m\u001b[0m\u001b[0m\n\u001b[0;32m----> 4\u001b[0;31m \u001b[0mnine\u001b[0m \u001b[1;33m+\u001b[0m \u001b[1;34m\"2\"\u001b[0m\u001b[1;33m\u001b[0m\u001b[0m\n\u001b[0m",
      "\u001b[0;31mTypeError\u001b[0m: unsupported operand type(s) for +: 'int' and 'str'"
     ]
    }
   ],
   "source": [
    "# Exemples de Runtime errors: TypeError et ValueError\n",
    "\n",
    "nine = 9\n",
    "nine + \"2\""
   ]
  },
  {
   "cell_type": "code",
   "execution_count": 42,
   "metadata": {
    "collapsed": false
   },
   "outputs": [
    {
     "ename": "ValueError",
     "evalue": "could not convert string to float: 'bonjour'",
     "output_type": "error",
     "traceback": [
      "\u001b[0;31m---------------------------------------------------------------------------\u001b[0m",
      "\u001b[0;31mValueError\u001b[0m                                Traceback (most recent call last)",
      "\u001b[0;32m<ipython-input-42-21026546657c>\u001b[0m in \u001b[0;36m<module>\u001b[0;34m()\u001b[0m\n\u001b[0;32m----> 1\u001b[0;31m \u001b[0mfloat\u001b[0m\u001b[1;33m(\u001b[0m\u001b[1;34m\"bonjour\"\u001b[0m\u001b[1;33m)\u001b[0m\u001b[1;33m\u001b[0m\u001b[0m\n\u001b[0m",
      "\u001b[0;31mValueError\u001b[0m: could not convert string to float: 'bonjour'"
     ]
    }
   ],
   "source": [
    "float(\"bonjour\")"
   ]
  },
  {
   "cell_type": "code",
   "execution_count": 43,
   "metadata": {
    "collapsed": false
   },
   "outputs": [
    {
     "ename": "IndexError",
     "evalue": "list index out of range",
     "output_type": "error",
     "traceback": [
      "\u001b[0;31m---------------------------------------------------------------------------\u001b[0m",
      "\u001b[0;31mIndexError\u001b[0m                                Traceback (most recent call last)",
      "\u001b[0;32m<ipython-input-43-f68f6c569cbb>\u001b[0m in \u001b[0;36m<module>\u001b[0;34m()\u001b[0m\n\u001b[1;32m      2\u001b[0m \u001b[1;33m\u001b[0m\u001b[0m\n\u001b[1;32m      3\u001b[0m \u001b[0mages\u001b[0m \u001b[1;33m=\u001b[0m \u001b[1;33m[\u001b[0m\u001b[1;36m11\u001b[0m\u001b[1;33m,\u001b[0m \u001b[1;36m28\u001b[0m\u001b[1;33m,\u001b[0m \u001b[1;36m20\u001b[0m\u001b[1;33m]\u001b[0m\u001b[1;33m\u001b[0m\u001b[0m\n\u001b[0;32m----> 4\u001b[0;31m \u001b[0mages\u001b[0m\u001b[1;33m[\u001b[0m\u001b[1;36m7\u001b[0m\u001b[1;33m]\u001b[0m\u001b[1;33m\u001b[0m\u001b[0m\n\u001b[0m",
      "\u001b[0;31mIndexError\u001b[0m: list index out of range"
     ]
    }
   ],
   "source": [
    "# Autre exemple de RuntimeError : IndexError et AttributeError\n",
    "\n",
    "ages = [11, 28, 20]\n",
    "ages[7]"
   ]
  },
  {
   "cell_type": "code",
   "execution_count": 45,
   "metadata": {
    "collapsed": false
   },
   "outputs": [
    {
     "data": {
      "text/plain": [
       "['En',\n",
       " 'termes',\n",
       " 'gÃ©nÃ©raux,',\n",
       " 'la',\n",
       " 'scence',\n",
       " 'des',\n",
       " 'donnÃ©es',\n",
       " 'est',\n",
       " \"l'extraction\",\n",
       " 'de',\n",
       " 'conaissance',\n",
       " \"d'ensembles\",\n",
       " 'de',\n",
       " 'donnÃ©es.',\n",
       " '',\n",
       " '',\n",
       " '\\n',\n",
       " '\\nElle',\n",
       " 'emploie',\n",
       " 'des',\n",
       " 'techniques',\n",
       " 'et',\n",
       " 'des',\n",
       " 'thÃ©ories',\n",
       " 'tirÃ©es',\n",
       " 'de',\n",
       " 'plusieurs',\n",
       " 'autres',\n",
       " 'domaines',\n",
       " 'plus',\n",
       " 'larges',\n",
       " 'des',\n",
       " 'mathÃ©matiques,',\n",
       " 'la',\n",
       " 'statistique',\n",
       " 'principalement,',\n",
       " 'la',\n",
       " 'tÃ©orie',\n",
       " 'de',\n",
       " \"l'information\",\n",
       " 'et',\n",
       " 'la',\n",
       " 'technologie',\n",
       " 'de',\n",
       " \"l'information,\",\n",
       " 'notamment',\n",
       " 'le',\n",
       " 'traitement',\n",
       " 'de',\n",
       " 'signal,',\n",
       " 'des',\n",
       " 'modÃ¨les',\n",
       " 'probabilistes,',\n",
       " \"l'apprentissage\",\n",
       " 'automatique,',\n",
       " \"l'apprentissage\",\n",
       " 'statistiqe,',\n",
       " 'la',\n",
       " 'programmation',\n",
       " 'informatique,',\n",
       " \"l'ingÃ©nierie\",\n",
       " 'de',\n",
       " 'donnÃ©es,',\n",
       " 'la',\n",
       " 'reconnaissance',\n",
       " 'de',\n",
       " 'formes',\n",
       " 'et',\n",
       " \"l'apprentissage,\",\n",
       " 'la',\n",
       " 'visualisation,',\n",
       " \"l'analytique\",\n",
       " 'prophÃ©tique,',\n",
       " 'la',\n",
       " 'modÃ©lisation',\n",
       " \"d'incertitude,\",\n",
       " 'le',\n",
       " 'stokage',\n",
       " 'de',\n",
       " 'donnÃ©es,',\n",
       " 'la',\n",
       " 'compression',\n",
       " 'de',\n",
       " 'donnÃ©es',\n",
       " 'et',\n",
       " 'le',\n",
       " 'calcul',\n",
       " 'Ã\\xa0',\n",
       " 'haute',\n",
       " 'performance.',\n",
       " '\\n',\n",
       " '\\nLes',\n",
       " 'mÃ©thodes',\n",
       " 'qui',\n",
       " \"s'adaptent\",\n",
       " 'aux',\n",
       " 'donnÃ©es',\n",
       " 'de',\n",
       " 'masse',\n",
       " 'sont',\n",
       " 'particuliÃ¨rement',\n",
       " 'intÃ©ressantes',\n",
       " 'dans',\n",
       " 'la',\n",
       " 'science',\n",
       " 'des',\n",
       " 'donnÃ©es,',\n",
       " 'bien',\n",
       " 'que',\n",
       " 'la',\n",
       " 'dicipline',\n",
       " 'ne',\n",
       " 'soit',\n",
       " 'gÃ©nÃ©ralement',\n",
       " 'pas',\n",
       " 'considÃ©rÃ©e',\n",
       " 'come',\n",
       " 'limitÃ©e',\n",
       " 'Ã\\xa0',\n",
       " 'ces',\n",
       " 'donnÃ©es.',\n",
       " '',\n",
       " '',\n",
       " '\\n',\n",
       " '\\nLe',\n",
       " 'premier',\n",
       " 'objectif',\n",
       " 'est',\n",
       " 'de',\n",
       " 'produire',\n",
       " 'des',\n",
       " 'mÃ©thodes',\n",
       " 'automatisÃ©es,',\n",
       " 'autant',\n",
       " 'que',\n",
       " 'possible',\n",
       " 'de',\n",
       " 'tri',\n",
       " 'et',\n",
       " \"d'analyse\",\n",
       " 'de',\n",
       " 'donnÃ©es',\n",
       " 'de',\n",
       " 'masse',\n",
       " 'et',\n",
       " 'de',\n",
       " 'sources',\n",
       " 'plus',\n",
       " 'ou',\n",
       " 'moins',\n",
       " 'complexes',\n",
       " 'ou',\n",
       " 'disjointes',\n",
       " 'de',\n",
       " 'donnÃ©es,',\n",
       " 'afin',\n",
       " \"d'en\",\n",
       " 'extraire',\n",
       " 'des',\n",
       " 'informations',\n",
       " 'utiles',\n",
       " 'ou',\n",
       " 'potentiellement',\n",
       " 'utiles.',\n",
       " 'Source',\n",
       " 'WikipÃ©dia']"
      ]
     },
     "execution_count": 45,
     "metadata": {},
     "output_type": "execute_result"
    }
   ],
   "source": [
    "f = open(\"texte.txt\").read()\n",
    "f.split(\" \")"
   ]
  },
  {
   "cell_type": "code",
   "execution_count": null,
   "metadata": {
    "collapsed": true
   },
   "outputs": [],
   "source": []
  }
 ],
 "metadata": {
  "anaconda-cloud": {},
  "kernelspec": {
   "display_name": "Python [conda root]",
   "language": "python",
   "name": "conda-root-py"
  },
  "language_info": {
   "codemirror_mode": {
    "name": "ipython",
    "version": 3
   },
   "file_extension": ".py",
   "mimetype": "text/x-python",
   "name": "python",
   "nbconvert_exporter": "python",
   "pygments_lexer": "ipython3",
   "version": "3.5.2"
  }
 },
 "nbformat": 4,
 "nbformat_minor": 1
}
